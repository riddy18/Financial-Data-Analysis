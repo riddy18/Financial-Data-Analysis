{
 "cells": [
  {
   "cell_type": "markdown",
   "metadata": {},
   "source": [
    "In this notebook, we collect stock price data from yahoo finance, a media property that is part of Yahoo!'s network. <br> \n",
    "We utilize the yfinance api https://pypi.org/project/yahoo-finance/ by Ran Aroussi. <br>\n",
    "Credits: Rohan Joseph https://towardsdatascience.com/downloading-historical-stock-prices-in-python-93f85f059c1f <br>\n",
    "We perform feature engineering and perform a binary classification of the price change based on stock prices."
   ]
  },
  {
   "cell_type": "code",
   "execution_count": 1,
   "metadata": {},
   "outputs": [],
   "source": [
    "import pandas as pd\n",
    "import yfinance as yf\n",
    "import datetime\n",
    "import time\n",
    "import requests\n",
    "import io"
   ]
  },
  {
   "cell_type": "code",
   "execution_count": 2,
   "metadata": {},
   "outputs": [],
   "source": [
    "# Time period for stock data\n",
    "from datetime import date\n",
    "start = datetime.datetime(2016,1,1)\n",
    "end = date.today()"
   ]
  },
  {
   "cell_type": "code",
   "execution_count": 3,
   "metadata": {},
   "outputs": [
    {
     "data": {
      "text/plain": [
       "'\\n# Get stock ticker symbols listed on NASDAQ\\nurl=\"https://pkgstore.datahub.io/core/nasdaq-listings/nasdaq-listed_csv/data/7665719fb51081ba0bd834fde71ce822/nasdaq-listed_csv.csv\"\\ns = requests.get(url).content\\ncompanies = pd.read_csv(io.StringIO(s.decode(\\'utf-8\\')))\\n'"
      ]
     },
     "execution_count": 3,
     "metadata": {},
     "output_type": "execute_result"
    }
   ],
   "source": [
    "'''\n",
    "# Get stock ticker symbols listed on NASDAQ\n",
    "url=\"https://pkgstore.datahub.io/core/nasdaq-listings/nasdaq-listed_csv/data/7665719fb51081ba0bd834fde71ce822/nasdaq-listed_csv.csv\"\n",
    "s = requests.get(url).content\n",
    "companies = pd.read_csv(io.StringIO(s.decode('utf-8')))\n",
    "'''"
   ]
  },
  {
   "cell_type": "code",
   "execution_count": 4,
   "metadata": {},
   "outputs": [],
   "source": [
    "#Symbols = companies['Symbol'].tolist()"
   ]
  },
  {
   "cell_type": "code",
   "execution_count": 5,
   "metadata": {},
   "outputs": [
    {
     "data": {
      "text/plain": [
       "\"\\n# create empty dataframe\\nstock_final = pd.DataFrame()\\n# iterate over each symbol\\nfor i in Symbols:  \\n    \\n    # print the symbol which is being downloaded\\n    print( str(Symbols.index(i)) + str(' : ') + i, sep=',', end=',', flush=True)  \\n    \\n    try:\\n        # download the stock price \\n        stock = []\\n        stock = yf.download(i,start=start, end=end, progress=False)\\n        \\n        # append the individual stock prices \\n        if len(stock) == 0:\\n            None\\n        else:\\n            stock['Name']=i\\n            stock_final = stock_final.append(stock,sort=False)\\n    except Exception:\\n        None\\n        \""
      ]
     },
     "execution_count": 5,
     "metadata": {},
     "output_type": "execute_result"
    }
   ],
   "source": [
    "'''\n",
    "# create empty dataframe\n",
    "stock_final = pd.DataFrame()\n",
    "# iterate over each symbol\n",
    "for i in Symbols:  \n",
    "    \n",
    "    # print the symbol which is being downloaded\n",
    "    print( str(Symbols.index(i)) + str(' : ') + i, sep=',', end=',', flush=True)  \n",
    "    \n",
    "    try:\n",
    "        # download the stock price \n",
    "        stock = []\n",
    "        stock = yf.download(i,start=start, end=end, progress=False)\n",
    "        \n",
    "        # append the individual stock prices \n",
    "        if len(stock) == 0:\n",
    "            None\n",
    "        else:\n",
    "            stock['Name']=i\n",
    "            stock_final = stock_final.append(stock,sort=False)\n",
    "    except Exception:\n",
    "        None\n",
    "        '''"
   ]
  },
  {
   "cell_type": "code",
   "execution_count": 6,
   "metadata": {},
   "outputs": [],
   "source": [
    "# read dataset of stock information of GOOG between 2004 and 2021 March downloaded from yfinance\n",
    "stock_final = pd.read_csv('GOOG.csv')"
   ]
  },
  {
   "cell_type": "code",
   "execution_count": 7,
   "metadata": {},
   "outputs": [
    {
     "data": {
      "text/html": [
       "<div>\n",
       "<style scoped>\n",
       "    .dataframe tbody tr th:only-of-type {\n",
       "        vertical-align: middle;\n",
       "    }\n",
       "\n",
       "    .dataframe tbody tr th {\n",
       "        vertical-align: top;\n",
       "    }\n",
       "\n",
       "    .dataframe thead th {\n",
       "        text-align: right;\n",
       "    }\n",
       "</style>\n",
       "<table border=\"1\" class=\"dataframe\">\n",
       "  <thead>\n",
       "    <tr style=\"text-align: right;\">\n",
       "      <th></th>\n",
       "      <th>Open</th>\n",
       "      <th>High</th>\n",
       "      <th>Low</th>\n",
       "      <th>Close</th>\n",
       "      <th>Adj Close</th>\n",
       "      <th>Volume</th>\n",
       "    </tr>\n",
       "  </thead>\n",
       "  <tbody>\n",
       "    <tr>\n",
       "      <th>count</th>\n",
       "      <td>4170.000000</td>\n",
       "      <td>4170.000000</td>\n",
       "      <td>4170.000000</td>\n",
       "      <td>4170.000000</td>\n",
       "      <td>4170.000000</td>\n",
       "      <td>4.170000e+03</td>\n",
       "    </tr>\n",
       "    <tr>\n",
       "      <th>mean</th>\n",
       "      <td>566.693947</td>\n",
       "      <td>572.273075</td>\n",
       "      <td>561.124719</td>\n",
       "      <td>566.842783</td>\n",
       "      <td>566.842783</td>\n",
       "      <td>6.711347e+06</td>\n",
       "    </tr>\n",
       "    <tr>\n",
       "      <th>std</th>\n",
       "      <td>432.299874</td>\n",
       "      <td>437.037650</td>\n",
       "      <td>428.293091</td>\n",
       "      <td>432.843126</td>\n",
       "      <td>432.843126</td>\n",
       "      <td>7.901866e+06</td>\n",
       "    </tr>\n",
       "    <tr>\n",
       "      <th>min</th>\n",
       "      <td>49.409801</td>\n",
       "      <td>50.680038</td>\n",
       "      <td>47.800831</td>\n",
       "      <td>49.818268</td>\n",
       "      <td>49.818268</td>\n",
       "      <td>7.922000e+03</td>\n",
       "    </tr>\n",
       "    <tr>\n",
       "      <th>25%</th>\n",
       "      <td>241.603168</td>\n",
       "      <td>244.629319</td>\n",
       "      <td>239.423836</td>\n",
       "      <td>241.614365</td>\n",
       "      <td>241.614365</td>\n",
       "      <td>1.671425e+06</td>\n",
       "    </tr>\n",
       "    <tr>\n",
       "      <th>50%</th>\n",
       "      <td>358.496277</td>\n",
       "      <td>362.531143</td>\n",
       "      <td>355.584686</td>\n",
       "      <td>359.116440</td>\n",
       "      <td>359.116440</td>\n",
       "      <td>4.015696e+06</td>\n",
       "    </tr>\n",
       "    <tr>\n",
       "      <th>75%</th>\n",
       "      <td>806.782486</td>\n",
       "      <td>809.392486</td>\n",
       "      <td>801.610000</td>\n",
       "      <td>806.130020</td>\n",
       "      <td>806.130020</td>\n",
       "      <td>8.554595e+06</td>\n",
       "    </tr>\n",
       "    <tr>\n",
       "      <th>max</th>\n",
       "      <td>2119.270020</td>\n",
       "      <td>2152.679932</td>\n",
       "      <td>2104.360107</td>\n",
       "      <td>2128.310059</td>\n",
       "      <td>2128.310059</td>\n",
       "      <td>8.254163e+07</td>\n",
       "    </tr>\n",
       "  </tbody>\n",
       "</table>\n",
       "</div>"
      ],
      "text/plain": [
       "              Open         High          Low        Close    Adj Close  \\\n",
       "count  4170.000000  4170.000000  4170.000000  4170.000000  4170.000000   \n",
       "mean    566.693947   572.273075   561.124719   566.842783   566.842783   \n",
       "std     432.299874   437.037650   428.293091   432.843126   432.843126   \n",
       "min      49.409801    50.680038    47.800831    49.818268    49.818268   \n",
       "25%     241.603168   244.629319   239.423836   241.614365   241.614365   \n",
       "50%     358.496277   362.531143   355.584686   359.116440   359.116440   \n",
       "75%     806.782486   809.392486   801.610000   806.130020   806.130020   \n",
       "max    2119.270020  2152.679932  2104.360107  2128.310059  2128.310059   \n",
       "\n",
       "             Volume  \n",
       "count  4.170000e+03  \n",
       "mean   6.711347e+06  \n",
       "std    7.901866e+06  \n",
       "min    7.922000e+03  \n",
       "25%    1.671425e+06  \n",
       "50%    4.015696e+06  \n",
       "75%    8.554595e+06  \n",
       "max    8.254163e+07  "
      ]
     },
     "execution_count": 7,
     "metadata": {},
     "output_type": "execute_result"
    }
   ],
   "source": [
    "stock_final.describe()"
   ]
  },
  {
   "cell_type": "code",
   "execution_count": 8,
   "metadata": {},
   "outputs": [
    {
     "data": {
      "text/html": [
       "<div>\n",
       "<style scoped>\n",
       "    .dataframe tbody tr th:only-of-type {\n",
       "        vertical-align: middle;\n",
       "    }\n",
       "\n",
       "    .dataframe tbody tr th {\n",
       "        vertical-align: top;\n",
       "    }\n",
       "\n",
       "    .dataframe thead th {\n",
       "        text-align: right;\n",
       "    }\n",
       "</style>\n",
       "<table border=\"1\" class=\"dataframe\">\n",
       "  <thead>\n",
       "    <tr style=\"text-align: right;\">\n",
       "      <th></th>\n",
       "      <th>Date</th>\n",
       "      <th>Open</th>\n",
       "      <th>High</th>\n",
       "      <th>Low</th>\n",
       "      <th>Close</th>\n",
       "      <th>Adj Close</th>\n",
       "      <th>Volume</th>\n",
       "    </tr>\n",
       "  </thead>\n",
       "  <tbody>\n",
       "    <tr>\n",
       "      <th>4165</th>\n",
       "      <td>2021-03-08</td>\n",
       "      <td>2101.129883</td>\n",
       "      <td>2128.810059</td>\n",
       "      <td>2021.609985</td>\n",
       "      <td>2024.170044</td>\n",
       "      <td>2024.170044</td>\n",
       "      <td>1646000</td>\n",
       "    </tr>\n",
       "    <tr>\n",
       "      <th>4166</th>\n",
       "      <td>2021-03-09</td>\n",
       "      <td>2070.000000</td>\n",
       "      <td>2078.040039</td>\n",
       "      <td>2047.829956</td>\n",
       "      <td>2052.699951</td>\n",
       "      <td>2052.699951</td>\n",
       "      <td>1696400</td>\n",
       "    </tr>\n",
       "    <tr>\n",
       "      <th>4167</th>\n",
       "      <td>2021-03-10</td>\n",
       "      <td>2071.760010</td>\n",
       "      <td>2075.000000</td>\n",
       "      <td>2033.369995</td>\n",
       "      <td>2055.030029</td>\n",
       "      <td>2055.030029</td>\n",
       "      <td>1267800</td>\n",
       "    </tr>\n",
       "    <tr>\n",
       "      <th>4168</th>\n",
       "      <td>2021-03-11</td>\n",
       "      <td>2074.060059</td>\n",
       "      <td>2125.699951</td>\n",
       "      <td>2072.379883</td>\n",
       "      <td>2114.770020</td>\n",
       "      <td>2114.770020</td>\n",
       "      <td>1238300</td>\n",
       "    </tr>\n",
       "    <tr>\n",
       "      <th>4169</th>\n",
       "      <td>2021-03-12</td>\n",
       "      <td>2085.000000</td>\n",
       "      <td>2090.260010</td>\n",
       "      <td>2047.550049</td>\n",
       "      <td>2061.919922</td>\n",
       "      <td>2061.919922</td>\n",
       "      <td>1725000</td>\n",
       "    </tr>\n",
       "  </tbody>\n",
       "</table>\n",
       "</div>"
      ],
      "text/plain": [
       "            Date         Open         High          Low        Close  \\\n",
       "4165  2021-03-08  2101.129883  2128.810059  2021.609985  2024.170044   \n",
       "4166  2021-03-09  2070.000000  2078.040039  2047.829956  2052.699951   \n",
       "4167  2021-03-10  2071.760010  2075.000000  2033.369995  2055.030029   \n",
       "4168  2021-03-11  2074.060059  2125.699951  2072.379883  2114.770020   \n",
       "4169  2021-03-12  2085.000000  2090.260010  2047.550049  2061.919922   \n",
       "\n",
       "        Adj Close   Volume  \n",
       "4165  2024.170044  1646000  \n",
       "4166  2052.699951  1696400  \n",
       "4167  2055.030029  1267800  \n",
       "4168  2114.770020  1238300  \n",
       "4169  2061.919922  1725000  "
      ]
     },
     "execution_count": 8,
     "metadata": {},
     "output_type": "execute_result"
    }
   ],
   "source": [
    "stock_final.tail()"
   ]
  },
  {
   "cell_type": "code",
   "execution_count": 9,
   "metadata": {},
   "outputs": [
    {
     "data": {
      "text/plain": [
       "Date         0\n",
       "Open         0\n",
       "High         0\n",
       "Low          0\n",
       "Close        0\n",
       "Adj Close    0\n",
       "Volume       0\n",
       "dtype: int64"
      ]
     },
     "execution_count": 9,
     "metadata": {},
     "output_type": "execute_result"
    }
   ],
   "source": [
    "#check missing data\n",
    "stock_final.isna().sum()"
   ]
  },
  {
   "cell_type": "code",
   "execution_count": 10,
   "metadata": {},
   "outputs": [],
   "source": [
    "# number of companies with stock data\n",
    "#stock_final['Name'].nunique()"
   ]
  },
  {
   "cell_type": "code",
   "execution_count": 11,
   "metadata": {},
   "outputs": [],
   "source": [
    "# get Alphabet stock from all the companies' data\n",
    "# Alphabet_stock = stock_final[stock_final['Name'] == 'GOOGL']\n",
    "# Alphabet_stock"
   ]
  },
  {
   "cell_type": "code",
   "execution_count": 12,
   "metadata": {},
   "outputs": [],
   "source": [
    "Alphabet_stock = stock_final"
   ]
  },
  {
   "cell_type": "code",
   "execution_count": 13,
   "metadata": {},
   "outputs": [
    {
     "data": {
      "text/plain": [
       "Text(0, 0.5, 'Close prices for GOOGL')"
      ]
     },
     "execution_count": 13,
     "metadata": {},
     "output_type": "execute_result"
    },
    {
     "data": {
      "image/png": "[encoded data removed]",
      "text/plain": [
       "<Figure size 1152x648 with 1 Axes>"
      ]
     },
     "metadata": {
      "needs_background": "light"
     },
     "output_type": "display_data"
    }
   ],
   "source": [
    "#Plot alphanbet stock since 2016\n",
    "import matplotlib.pyplot as plt\n",
    "import seaborn\n",
    "ax = Alphabet_stock['Adj Close'].plot(figsize=(16, 9), title='Google prices in dollars between 2016 and 2021')\n",
    "ax.set_xlabel(\"Years between 2016 and 2021\")\n",
    "ax.set_ylabel(\"Close prices for GOOGL\")"
   ]
  },
  {
   "cell_type": "markdown",
   "metadata": {},
   "source": [
    "Define a certain window: month, year etc <br>\n",
    "More like a fourier window: one year, one month? different window sizes. <br>\n",
    "Inside the window, derive several descriptors to use ML for predicition <br>\n",
    "Feature engineering <br>\n",
    "Given maximum price, min price (two descriptors), derive the ratio, average price, standard deviation of the price, <br>\n",
    "all time high price, time past since price peaked <br>\n",
    "Skewness of the price. <br>\n",
    "Plot histogram of the price, say with 10 bins of the fourier transform of the prices. <br>\n",
    "Check how important the entropy is<br>\n",
    "Linear regression coefficient of the price and the date <br>\n",
    "Pearson coefficient between price and date <br>\n",
    "Take care of delisted companies on the url list of NASDAQ companies"
   ]
  },
  {
   "cell_type": "markdown",
   "metadata": {},
   "source": [
    "# Price analysis for Alphabet stock"
   ]
  },
  {
   "cell_type": "markdown",
   "metadata": {},
   "source": [
    "We plot the moving averages for prices for 50, 100, and 200 days. <br>\n",
    "We plot the average, minimum, and maximum prices for Alphabet stock between 2016 and 2021. <br>\n",
    "We also derive the highest price per year and all time high price."
   ]
  },
  {
   "cell_type": "code",
   "execution_count": 14,
   "metadata": {},
   "outputs": [
    {
     "data": {
      "image/png": "[encoded data removed]",
      "text/plain": [
       "<Figure size 1152x576 with 1 Axes>"
      ]
     },
     "metadata": {
      "needs_background": "light"
     },
     "output_type": "display_data"
    }
   ],
   "source": [
    "# moving average for 50, 100, and 200 days\n",
    "Alphabet_stock['MA50'] = Alphabet_stock['Close'].rolling(50).mean()\n",
    "Alphabet_stock['MA100'] = Alphabet_stock['Close'].rolling(100).mean()\n",
    "Alphabet_stock['MA200'] = Alphabet_stock['Close'].rolling(200).mean()\n",
    "Alphabet_stock[['Close', 'MA50', 'MA100', 'MA200']].plot(label = 'DAL', figsize = (16, 8)); "
   ]
  },
  {
   "cell_type": "code",
   "execution_count": 15,
   "metadata": {},
   "outputs": [
    {
     "data": {
      "text/plain": [
       "Date          object\n",
       "Open         float64\n",
       "High         float64\n",
       "Low          float64\n",
       "Close        float64\n",
       "Adj Close    float64\n",
       "Volume         int64\n",
       "MA50         float64\n",
       "MA100        float64\n",
       "MA200        float64\n",
       "dtype: object"
      ]
     },
     "execution_count": 15,
     "metadata": {},
     "output_type": "execute_result"
    }
   ],
   "source": [
    "Alphabet_stock.dtypes"
   ]
  },
  {
   "cell_type": "code",
   "execution_count": 16,
   "metadata": {},
   "outputs": [],
   "source": [
    "# The index column is currently the datetime which we need to analyze the stock.\n",
    "# We convert the current index column to a normal column\n",
    "Alphabet_stock.reset_index(inplace=True)"
   ]
  },
  {
   "cell_type": "code",
   "execution_count": 17,
   "metadata": {},
   "outputs": [
    {
     "data": {
      "text/html": [
       "<div>\n",
       "<style scoped>\n",
       "    .dataframe tbody tr th:only-of-type {\n",
       "        vertical-align: middle;\n",
       "    }\n",
       "\n",
       "    .dataframe tbody tr th {\n",
       "        vertical-align: top;\n",
       "    }\n",
       "\n",
       "    .dataframe thead th {\n",
       "        text-align: right;\n",
       "    }\n",
       "</style>\n",
       "<table border=\"1\" class=\"dataframe\">\n",
       "  <thead>\n",
       "    <tr style=\"text-align: right;\">\n",
       "      <th></th>\n",
       "      <th>index</th>\n",
       "      <th>Date</th>\n",
       "      <th>Open</th>\n",
       "      <th>High</th>\n",
       "      <th>Low</th>\n",
       "      <th>Close</th>\n",
       "      <th>Adj Close</th>\n",
       "      <th>Volume</th>\n",
       "      <th>MA50</th>\n",
       "      <th>MA100</th>\n",
       "      <th>MA200</th>\n",
       "    </tr>\n",
       "  </thead>\n",
       "  <tbody>\n",
       "    <tr>\n",
       "      <th>0</th>\n",
       "      <td>0</td>\n",
       "      <td>2004-08-19</td>\n",
       "      <td>49.813290</td>\n",
       "      <td>51.835709</td>\n",
       "      <td>47.800831</td>\n",
       "      <td>49.982655</td>\n",
       "      <td>49.982655</td>\n",
       "      <td>44871361</td>\n",
       "      <td>NaN</td>\n",
       "      <td>NaN</td>\n",
       "      <td>NaN</td>\n",
       "    </tr>\n",
       "    <tr>\n",
       "      <th>1</th>\n",
       "      <td>1</td>\n",
       "      <td>2004-08-20</td>\n",
       "      <td>50.316402</td>\n",
       "      <td>54.336334</td>\n",
       "      <td>50.062355</td>\n",
       "      <td>53.952770</td>\n",
       "      <td>53.952770</td>\n",
       "      <td>22942874</td>\n",
       "      <td>NaN</td>\n",
       "      <td>NaN</td>\n",
       "      <td>NaN</td>\n",
       "    </tr>\n",
       "    <tr>\n",
       "      <th>2</th>\n",
       "      <td>2</td>\n",
       "      <td>2004-08-23</td>\n",
       "      <td>55.168217</td>\n",
       "      <td>56.528118</td>\n",
       "      <td>54.321388</td>\n",
       "      <td>54.495735</td>\n",
       "      <td>54.495735</td>\n",
       "      <td>18342897</td>\n",
       "      <td>NaN</td>\n",
       "      <td>NaN</td>\n",
       "      <td>NaN</td>\n",
       "    </tr>\n",
       "    <tr>\n",
       "      <th>3</th>\n",
       "      <td>3</td>\n",
       "      <td>2004-08-24</td>\n",
       "      <td>55.412300</td>\n",
       "      <td>55.591629</td>\n",
       "      <td>51.591621</td>\n",
       "      <td>52.239197</td>\n",
       "      <td>52.239197</td>\n",
       "      <td>15319808</td>\n",
       "      <td>NaN</td>\n",
       "      <td>NaN</td>\n",
       "      <td>NaN</td>\n",
       "    </tr>\n",
       "    <tr>\n",
       "      <th>4</th>\n",
       "      <td>4</td>\n",
       "      <td>2004-08-25</td>\n",
       "      <td>52.284027</td>\n",
       "      <td>53.798351</td>\n",
       "      <td>51.746044</td>\n",
       "      <td>52.802086</td>\n",
       "      <td>52.802086</td>\n",
       "      <td>9232276</td>\n",
       "      <td>NaN</td>\n",
       "      <td>NaN</td>\n",
       "      <td>NaN</td>\n",
       "    </tr>\n",
       "    <tr>\n",
       "      <th>...</th>\n",
       "      <td>...</td>\n",
       "      <td>...</td>\n",
       "      <td>...</td>\n",
       "      <td>...</td>\n",
       "      <td>...</td>\n",
       "      <td>...</td>\n",
       "      <td>...</td>\n",
       "      <td>...</td>\n",
       "      <td>...</td>\n",
       "      <td>...</td>\n",
       "      <td>...</td>\n",
       "    </tr>\n",
       "    <tr>\n",
       "      <th>4165</th>\n",
       "      <td>4165</td>\n",
       "      <td>2021-03-08</td>\n",
       "      <td>2101.129883</td>\n",
       "      <td>2128.810059</td>\n",
       "      <td>2021.609985</td>\n",
       "      <td>2024.170044</td>\n",
       "      <td>2024.170044</td>\n",
       "      <td>1646000</td>\n",
       "      <td>1930.427400</td>\n",
       "      <td>1820.926801</td>\n",
       "      <td>1658.205497</td>\n",
       "    </tr>\n",
       "    <tr>\n",
       "      <th>4166</th>\n",
       "      <td>4166</td>\n",
       "      <td>2021-03-09</td>\n",
       "      <td>2070.000000</td>\n",
       "      <td>2078.040039</td>\n",
       "      <td>2047.829956</td>\n",
       "      <td>2052.699951</td>\n",
       "      <td>2052.699951</td>\n",
       "      <td>1696400</td>\n",
       "      <td>1936.833799</td>\n",
       "      <td>1825.737000</td>\n",
       "      <td>1661.454997</td>\n",
       "    </tr>\n",
       "    <tr>\n",
       "      <th>4167</th>\n",
       "      <td>4167</td>\n",
       "      <td>2021-03-10</td>\n",
       "      <td>2071.760010</td>\n",
       "      <td>2075.000000</td>\n",
       "      <td>2033.369995</td>\n",
       "      <td>2055.030029</td>\n",
       "      <td>2055.030029</td>\n",
       "      <td>1267800</td>\n",
       "      <td>1943.157400</td>\n",
       "      <td>1830.606500</td>\n",
       "      <td>1664.678047</td>\n",
       "    </tr>\n",
       "    <tr>\n",
       "      <th>4168</th>\n",
       "      <td>4168</td>\n",
       "      <td>2021-03-11</td>\n",
       "      <td>2074.060059</td>\n",
       "      <td>2125.699951</td>\n",
       "      <td>2072.379883</td>\n",
       "      <td>2114.770020</td>\n",
       "      <td>2114.770020</td>\n",
       "      <td>1238300</td>\n",
       "      <td>1949.931001</td>\n",
       "      <td>1836.162900</td>\n",
       "      <td>1668.166797</td>\n",
       "    </tr>\n",
       "    <tr>\n",
       "      <th>4169</th>\n",
       "      <td>4169</td>\n",
       "      <td>2021-03-12</td>\n",
       "      <td>2085.000000</td>\n",
       "      <td>2090.260010</td>\n",
       "      <td>2047.550049</td>\n",
       "      <td>2061.919922</td>\n",
       "      <td>2061.919922</td>\n",
       "      <td>1725000</td>\n",
       "      <td>1955.995000</td>\n",
       "      <td>1841.052000</td>\n",
       "      <td>1671.387197</td>\n",
       "    </tr>\n",
       "  </tbody>\n",
       "</table>\n",
       "<p>4170 rows × 11 columns</p>\n",
       "</div>"
      ],
      "text/plain": [
       "      index        Date         Open         High          Low        Close  \\\n",
       "0         0  2004-08-19    49.813290    51.835709    47.800831    49.982655   \n",
       "1         1  2004-08-20    50.316402    54.336334    50.062355    53.952770   \n",
       "2         2  2004-08-23    55.168217    56.528118    54.321388    54.495735   \n",
       "3         3  2004-08-24    55.412300    55.591629    51.591621    52.239197   \n",
       "4         4  2004-08-25    52.284027    53.798351    51.746044    52.802086   \n",
       "...     ...         ...          ...          ...          ...          ...   \n",
       "4165   4165  2021-03-08  2101.129883  2128.810059  2021.609985  2024.170044   \n",
       "4166   4166  2021-03-09  2070.000000  2078.040039  2047.829956  2052.699951   \n",
       "4167   4167  2021-03-10  2071.760010  2075.000000  2033.369995  2055.030029   \n",
       "4168   4168  2021-03-11  2074.060059  2125.699951  2072.379883  2114.770020   \n",
       "4169   4169  2021-03-12  2085.000000  2090.260010  2047.550049  2061.919922   \n",
       "\n",
       "        Adj Close    Volume         MA50        MA100        MA200  \n",
       "0       49.982655  44871361          NaN          NaN          NaN  \n",
       "1       53.952770  22942874          NaN          NaN          NaN  \n",
       "2       54.495735  18342897          NaN          NaN          NaN  \n",
       "3       52.239197  15319808          NaN          NaN          NaN  \n",
       "4       52.802086   9232276          NaN          NaN          NaN  \n",
       "...           ...       ...          ...          ...          ...  \n",
       "4165  2024.170044   1646000  1930.427400  1820.926801  1658.205497  \n",
       "4166  2052.699951   1696400  1936.833799  1825.737000  1661.454997  \n",
       "4167  2055.030029   1267800  1943.157400  1830.606500  1664.678047  \n",
       "4168  2114.770020   1238300  1949.931001  1836.162900  1668.166797  \n",
       "4169  2061.919922   1725000  1955.995000  1841.052000  1671.387197  \n",
       "\n",
       "[4170 rows x 11 columns]"
      ]
     },
     "execution_count": 17,
     "metadata": {},
     "output_type": "execute_result"
    }
   ],
   "source": [
    "Alphabet_stock"
   ]
  },
  {
   "cell_type": "code",
   "execution_count": 18,
   "metadata": {},
   "outputs": [
    {
     "data": {
      "text/plain": [
       "index          int64\n",
       "Date          object\n",
       "Open         float64\n",
       "High         float64\n",
       "Low          float64\n",
       "Close        float64\n",
       "Adj Close    float64\n",
       "Volume         int64\n",
       "MA50         float64\n",
       "MA100        float64\n",
       "MA200        float64\n",
       "dtype: object"
      ]
     },
     "execution_count": 18,
     "metadata": {},
     "output_type": "execute_result"
    }
   ],
   "source": [
    "Alphabet_stock.dtypes"
   ]
  },
  {
   "cell_type": "code",
   "execution_count": 19,
   "metadata": {},
   "outputs": [],
   "source": [
    "# convert date from float to datetime type\n",
    "Alphabet_stock['Date'] =  pd.to_datetime(Alphabet_stock['Date'], format = '%Y-%m-%d')"
   ]
  },
  {
   "cell_type": "code",
   "execution_count": 20,
   "metadata": {},
   "outputs": [
    {
     "data": {
      "text/html": [
       "<div>\n",
       "<style scoped>\n",
       "    .dataframe tbody tr th:only-of-type {\n",
       "        vertical-align: middle;\n",
       "    }\n",
       "\n",
       "    .dataframe tbody tr th {\n",
       "        vertical-align: top;\n",
       "    }\n",
       "\n",
       "    .dataframe thead th {\n",
       "        text-align: right;\n",
       "    }\n",
       "</style>\n",
       "<table border=\"1\" class=\"dataframe\">\n",
       "  <thead>\n",
       "    <tr style=\"text-align: right;\">\n",
       "      <th></th>\n",
       "      <th>index</th>\n",
       "      <th>Date</th>\n",
       "      <th>Open</th>\n",
       "      <th>High</th>\n",
       "      <th>Low</th>\n",
       "      <th>Close</th>\n",
       "      <th>Adj Close</th>\n",
       "      <th>Volume</th>\n",
       "      <th>MA50</th>\n",
       "      <th>MA100</th>\n",
       "      <th>MA200</th>\n",
       "    </tr>\n",
       "  </thead>\n",
       "  <tbody>\n",
       "    <tr>\n",
       "      <th>0</th>\n",
       "      <td>0</td>\n",
       "      <td>2004-08-19</td>\n",
       "      <td>49.813290</td>\n",
       "      <td>51.835709</td>\n",
       "      <td>47.800831</td>\n",
       "      <td>49.982655</td>\n",
       "      <td>49.982655</td>\n",
       "      <td>44871361</td>\n",
       "      <td>NaN</td>\n",
       "      <td>NaN</td>\n",
       "      <td>NaN</td>\n",
       "    </tr>\n",
       "    <tr>\n",
       "      <th>1</th>\n",
       "      <td>1</td>\n",
       "      <td>2004-08-20</td>\n",
       "      <td>50.316402</td>\n",
       "      <td>54.336334</td>\n",
       "      <td>50.062355</td>\n",
       "      <td>53.952770</td>\n",
       "      <td>53.952770</td>\n",
       "      <td>22942874</td>\n",
       "      <td>NaN</td>\n",
       "      <td>NaN</td>\n",
       "      <td>NaN</td>\n",
       "    </tr>\n",
       "    <tr>\n",
       "      <th>2</th>\n",
       "      <td>2</td>\n",
       "      <td>2004-08-23</td>\n",
       "      <td>55.168217</td>\n",
       "      <td>56.528118</td>\n",
       "      <td>54.321388</td>\n",
       "      <td>54.495735</td>\n",
       "      <td>54.495735</td>\n",
       "      <td>18342897</td>\n",
       "      <td>NaN</td>\n",
       "      <td>NaN</td>\n",
       "      <td>NaN</td>\n",
       "    </tr>\n",
       "    <tr>\n",
       "      <th>3</th>\n",
       "      <td>3</td>\n",
       "      <td>2004-08-24</td>\n",
       "      <td>55.412300</td>\n",
       "      <td>55.591629</td>\n",
       "      <td>51.591621</td>\n",
       "      <td>52.239197</td>\n",
       "      <td>52.239197</td>\n",
       "      <td>15319808</td>\n",
       "      <td>NaN</td>\n",
       "      <td>NaN</td>\n",
       "      <td>NaN</td>\n",
       "    </tr>\n",
       "    <tr>\n",
       "      <th>4</th>\n",
       "      <td>4</td>\n",
       "      <td>2004-08-25</td>\n",
       "      <td>52.284027</td>\n",
       "      <td>53.798351</td>\n",
       "      <td>51.746044</td>\n",
       "      <td>52.802086</td>\n",
       "      <td>52.802086</td>\n",
       "      <td>9232276</td>\n",
       "      <td>NaN</td>\n",
       "      <td>NaN</td>\n",
       "      <td>NaN</td>\n",
       "    </tr>\n",
       "    <tr>\n",
       "      <th>...</th>\n",
       "      <td>...</td>\n",
       "      <td>...</td>\n",
       "      <td>...</td>\n",
       "      <td>...</td>\n",
       "      <td>...</td>\n",
       "      <td>...</td>\n",
       "      <td>...</td>\n",
       "      <td>...</td>\n",
       "      <td>...</td>\n",
       "      <td>...</td>\n",
       "      <td>...</td>\n",
       "    </tr>\n",
       "    <tr>\n",
       "      <th>4165</th>\n",
       "      <td>4165</td>\n",
       "      <td>2021-03-08</td>\n",
       "      <td>2101.129883</td>\n",
       "      <td>2128.810059</td>\n",
       "      <td>2021.609985</td>\n",
       "      <td>2024.170044</td>\n",
       "      <td>2024.170044</td>\n",
       "      <td>1646000</td>\n",
       "      <td>1930.427400</td>\n",
       "      <td>1820.926801</td>\n",
       "      <td>1658.205497</td>\n",
       "    </tr>\n",
       "    <tr>\n",
       "      <th>4166</th>\n",
       "      <td>4166</td>\n",
       "      <td>2021-03-09</td>\n",
       "      <td>2070.000000</td>\n",
       "      <td>2078.040039</td>\n",
       "      <td>2047.829956</td>\n",
       "      <td>2052.699951</td>\n",
       "      <td>2052.699951</td>\n",
       "      <td>1696400</td>\n",
       "      <td>1936.833799</td>\n",
       "      <td>1825.737000</td>\n",
       "      <td>1661.454997</td>\n",
       "    </tr>\n",
       "    <tr>\n",
       "      <th>4167</th>\n",
       "      <td>4167</td>\n",
       "      <td>2021-03-10</td>\n",
       "      <td>2071.760010</td>\n",
       "      <td>2075.000000</td>\n",
       "      <td>2033.369995</td>\n",
       "      <td>2055.030029</td>\n",
       "      <td>2055.030029</td>\n",
       "      <td>1267800</td>\n",
       "      <td>1943.157400</td>\n",
       "      <td>1830.606500</td>\n",
       "      <td>1664.678047</td>\n",
       "    </tr>\n",
       "    <tr>\n",
       "      <th>4168</th>\n",
       "      <td>4168</td>\n",
       "      <td>2021-03-11</td>\n",
       "      <td>2074.060059</td>\n",
       "      <td>2125.699951</td>\n",
       "      <td>2072.379883</td>\n",
       "      <td>2114.770020</td>\n",
       "      <td>2114.770020</td>\n",
       "      <td>1238300</td>\n",
       "      <td>1949.931001</td>\n",
       "      <td>1836.162900</td>\n",
       "      <td>1668.166797</td>\n",
       "    </tr>\n",
       "    <tr>\n",
       "      <th>4169</th>\n",
       "      <td>4169</td>\n",
       "      <td>2021-03-12</td>\n",
       "      <td>2085.000000</td>\n",
       "      <td>2090.260010</td>\n",
       "      <td>2047.550049</td>\n",
       "      <td>2061.919922</td>\n",
       "      <td>2061.919922</td>\n",
       "      <td>1725000</td>\n",
       "      <td>1955.995000</td>\n",
       "      <td>1841.052000</td>\n",
       "      <td>1671.387197</td>\n",
       "    </tr>\n",
       "  </tbody>\n",
       "</table>\n",
       "<p>4170 rows × 11 columns</p>\n",
       "</div>"
      ],
      "text/plain": [
       "      index       Date         Open         High          Low        Close  \\\n",
       "0         0 2004-08-19    49.813290    51.835709    47.800831    49.982655   \n",
       "1         1 2004-08-20    50.316402    54.336334    50.062355    53.952770   \n",
       "2         2 2004-08-23    55.168217    56.528118    54.321388    54.495735   \n",
       "3         3 2004-08-24    55.412300    55.591629    51.591621    52.239197   \n",
       "4         4 2004-08-25    52.284027    53.798351    51.746044    52.802086   \n",
       "...     ...        ...          ...          ...          ...          ...   \n",
       "4165   4165 2021-03-08  2101.129883  2128.810059  2021.609985  2024.170044   \n",
       "4166   4166 2021-03-09  2070.000000  2078.040039  2047.829956  2052.699951   \n",
       "4167   4167 2021-03-10  2071.760010  2075.000000  2033.369995  2055.030029   \n",
       "4168   4168 2021-03-11  2074.060059  2125.699951  2072.379883  2114.770020   \n",
       "4169   4169 2021-03-12  2085.000000  2090.260010  2047.550049  2061.919922   \n",
       "\n",
       "        Adj Close    Volume         MA50        MA100        MA200  \n",
       "0       49.982655  44871361          NaN          NaN          NaN  \n",
       "1       53.952770  22942874          NaN          NaN          NaN  \n",
       "2       54.495735  18342897          NaN          NaN          NaN  \n",
       "3       52.239197  15319808          NaN          NaN          NaN  \n",
       "4       52.802086   9232276          NaN          NaN          NaN  \n",
       "...           ...       ...          ...          ...          ...  \n",
       "4165  2024.170044   1646000  1930.427400  1820.926801  1658.205497  \n",
       "4166  2052.699951   1696400  1936.833799  1825.737000  1661.454997  \n",
       "4167  2055.030029   1267800  1943.157400  1830.606500  1664.678047  \n",
       "4168  2114.770020   1238300  1949.931001  1836.162900  1668.166797  \n",
       "4169  2061.919922   1725000  1955.995000  1841.052000  1671.387197  \n",
       "\n",
       "[4170 rows x 11 columns]"
      ]
     },
     "execution_count": 20,
     "metadata": {},
     "output_type": "execute_result"
    }
   ],
   "source": [
    "Alphabet_stock"
   ]
  },
  {
   "cell_type": "code",
   "execution_count": 21,
   "metadata": {},
   "outputs": [
    {
     "data": {
      "text/plain": [
       "Text(0.5, 0, 'Stock prices for GOOGL between between 2016 and 2021')"
      ]
     },
     "execution_count": 21,
     "metadata": {},
     "output_type": "execute_result"
    },
    {
     "data": {
      "image/png": "[encoded data removed]",
      "text/plain": [
       "<Figure size 432x288 with 1 Axes>"
      ]
     },
     "metadata": {
      "needs_background": "light"
     },
     "output_type": "display_data"
    }
   ],
   "source": [
    "# plot the price of the stock of GOOGL on a histogram with 10 bins\n",
    "ax = Alphabet_stock['Close'].plot.hist(bins=10, alpha=0.5)\n",
    "ax.set_xlabel(\"Stock prices for GOOGL between between 2016 and 2021\")"
   ]
  },
  {
   "cell_type": "code",
   "execution_count": 22,
   "metadata": {},
   "outputs": [
    {
     "data": {
      "text/plain": [
       "Text(0, 0.5, 'Average Close prices')"
      ]
     },
     "execution_count": 22,
     "metadata": {},
     "output_type": "execute_result"
    },
    {
     "data": {
      "image/png": "[encoded data removed]",
      "text/plain": [
       "<Figure size 432x288 with 1 Axes>"
      ]
     },
     "metadata": {
      "needs_background": "light"
     },
     "output_type": "display_data"
    }
   ],
   "source": [
    "#return the average prices for each month for 'GOOGL'\n",
    "Alphabet_stock_av = Alphabet_stock['Close'].groupby([Alphabet_stock.Date.dt.year, Alphabet_stock.Date.dt.month]).mean()\n",
    "\n",
    "ax = Alphabet_stock_av.plot(lw=2, colormap='brg', marker='.', markersize=10, title='Google average Closing prices in dollars')\n",
    "ax.set_xlabel(\"Months between 2016 and 2021\")\n",
    "ax.set_ylabel(\"Average Close prices\")"
   ]
  },
  {
   "cell_type": "code",
   "execution_count": 23,
   "metadata": {},
   "outputs": [
    {
     "data": {
      "text/plain": [
       "Date  Date\n",
       "2004  8         52.434573\n",
       "      9         56.402162\n",
       "      10        76.329375\n",
       "      11        88.416214\n",
       "      12        90.545612\n",
       "                 ...     \n",
       "2020  11      1748.348499\n",
       "      12      1772.278182\n",
       "2021  1       1808.383693\n",
       "      2       2068.356824\n",
       "      3       2065.028015\n",
       "Name: Close, Length: 200, dtype: float64"
      ]
     },
     "execution_count": 23,
     "metadata": {},
     "output_type": "execute_result"
    }
   ],
   "source": [
    "Alphabet_stock_av"
   ]
  },
  {
   "cell_type": "code",
   "execution_count": 24,
   "metadata": {},
   "outputs": [
    {
     "data": {
      "text/plain": [
       "Text(0, 0.5, 'Minimum Close prices')"
      ]
     },
     "execution_count": 24,
     "metadata": {},
     "output_type": "execute_result"
    },
    {
     "data": {
      "image/png": "[encoded data removed]",
      "text/plain": [
       "<Figure size 432x288 with 1 Axes>"
      ]
     },
     "metadata": {
      "needs_background": "light"
     },
     "output_type": "display_data"
    }
   ],
   "source": [
    "#return the minimum prices for each month for 'GOOGL'\n",
    "Alphabet_stock_min = Alphabet_stock['Close'].groupby([Alphabet_stock.Date.dt.year, Alphabet_stock.Date.dt.month]).min()\n",
    "\n",
    "ax = Alphabet_stock_min.plot(lw=2, colormap='flag', marker='.', markersize=10, title='Google minimum Closing prices in dollars')\n",
    "ax.set_xlabel(\"Months between 2016 and 2021\")\n",
    "ax.set_ylabel(\"Minimum Close prices\")"
   ]
  },
  {
   "cell_type": "code",
   "execution_count": 25,
   "metadata": {},
   "outputs": [
    {
     "data": {
      "text/plain": [
       "Text(0, 0.5, 'Maximum Close prices')"
      ]
     },
     "execution_count": 25,
     "metadata": {},
     "output_type": "execute_result"
    },
    {
     "data": {
      "image/png": "[encoded data removed]",
      "text/plain": [
       "<Figure size 432x288 with 1 Axes>"
      ]
     },
     "metadata": {
      "needs_background": "light"
     },
     "output_type": "display_data"
    }
   ],
   "source": [
    "#return the maximum prices for each month for 'GOOGL'\n",
    "Alphabet_stock_max = Alphabet_stock['Close'].groupby([Alphabet_stock.Date.dt.year, Alphabet_stock.Date.dt.month]).max()\n",
    "\n",
    "ax = Alphabet_stock_max.plot(lw=2, colormap='nipy_spectral', marker='.', markersize=10, title='Google maximum Closing prices in dollars')\n",
    "ax.set_xlabel(\"Months between 2016 and 2021\")\n",
    "ax.set_ylabel(\"Maximum Close prices\")"
   ]
  },
  {
   "cell_type": "code",
   "execution_count": 26,
   "metadata": {},
   "outputs": [
    {
     "data": {
      "text/plain": [
       "Date\n",
       "2004      98.431053\n",
       "2005     215.213333\n",
       "2006     253.873413\n",
       "2007     369.509979\n",
       "2008     341.385406\n",
       "2009     310.272034\n",
       "2010     312.214752\n",
       "2011     321.744019\n",
       "2012     382.590942\n",
       "2013     558.262512\n",
       "2014     607.806763\n",
       "2015     776.599976\n",
       "2016     813.109985\n",
       "2017    1077.140015\n",
       "2018    1268.329956\n",
       "2019    1361.170044\n",
       "2020    1827.989990\n",
       "2021    2128.310059\n",
       "Name: Close, dtype: float64"
      ]
     },
     "execution_count": 26,
     "metadata": {},
     "output_type": "execute_result"
    }
   ],
   "source": [
    "# highest price by year for 'GOOGL'\n",
    "Alphabet_stock_year_max = Alphabet_stock['Close'].groupby([Alphabet_stock.Date.dt.year]).max()\n",
    "Alphabet_stock_year_max"
   ]
  },
  {
   "cell_type": "code",
   "execution_count": 27,
   "metadata": {},
   "outputs": [
    {
     "data": {
      "text/plain": [
       "2128.310059"
      ]
     },
     "execution_count": 27,
     "metadata": {},
     "output_type": "execute_result"
    }
   ],
   "source": [
    "# all-time high price for 'GOOGL'\n",
    "max(Alphabet_stock_year_max)"
   ]
  },
  {
   "cell_type": "code",
   "execution_count": 28,
   "metadata": {},
   "outputs": [
    {
     "data": {
      "text/plain": [
       "Date\n",
       "2004      49.818268\n",
       "2005      87.168274\n",
       "2006     167.900665\n",
       "2007     218.520935\n",
       "2008     128.239334\n",
       "2009     140.847076\n",
       "2010     217.220810\n",
       "2011     236.553345\n",
       "2012     278.481171\n",
       "2013     350.122650\n",
       "2014     494.033630\n",
       "2015     491.201416\n",
       "2016     668.260010\n",
       "2017     786.140015\n",
       "2018     976.219971\n",
       "2019    1016.059998\n",
       "2020    1056.619995\n",
       "2021    1728.239990\n",
       "Name: Close, dtype: float64"
      ]
     },
     "execution_count": 28,
     "metadata": {},
     "output_type": "execute_result"
    }
   ],
   "source": [
    "# highest price by year for 'GOOGL'\n",
    "Alphabet_stock_year_min = Alphabet_stock['Close'].groupby([Alphabet_stock.Date.dt.year]).min()\n",
    "Alphabet_stock_year_min"
   ]
  },
  {
   "cell_type": "code",
   "execution_count": 29,
   "metadata": {},
   "outputs": [
    {
     "data": {
      "text/plain": [
       "49.818267999999996"
      ]
     },
     "execution_count": 29,
     "metadata": {},
     "output_type": "execute_result"
    }
   ],
   "source": [
    "min(Alphabet_stock_year_min)"
   ]
  },
  {
   "cell_type": "code",
   "execution_count": 30,
   "metadata": {},
   "outputs": [
    {
     "data": {
      "text/plain": [
       "4152   2021-02-17\n",
       "Name: Date, dtype: datetime64[ns]"
      ]
     },
     "execution_count": 30,
     "metadata": {},
     "output_type": "execute_result"
    }
   ],
   "source": [
    "# time past since price peaked\n",
    "Alphabet_stock[Alphabet_stock['Close'] == max(Alphabet_stock_year_max)]['Date']"
   ]
  },
  {
   "cell_type": "markdown",
   "metadata": {},
   "source": [
    "# Pearson coefficient between price and date for Alphabet stock"
   ]
  },
  {
   "cell_type": "markdown",
   "metadata": {},
   "source": [
    "The Pearson correlation coefficient is used to measure the strength of a linear association between two variables, where the value r = 1 means a perfect positive correlation and the value r = -1 means a perfect negataive correlation. <br> https://www.socscistatistics.com/tests/pearson/"
   ]
  },
  {
   "cell_type": "code",
   "execution_count": 31,
   "metadata": {},
   "outputs": [
    {
     "data": {
      "text/plain": [
       "1.0"
      ]
     },
     "execution_count": 31,
     "metadata": {},
     "output_type": "execute_result"
    }
   ],
   "source": [
    "stock_final['Adj Close'].corr(stock_final['Close'])"
   ]
  },
  {
   "cell_type": "code",
   "execution_count": 32,
   "metadata": {
    "scrolled": true
   },
   "outputs": [
    {
     "data": {
      "text/plain": [
       "1.0"
      ]
     },
     "execution_count": 32,
     "metadata": {},
     "output_type": "execute_result"
    }
   ],
   "source": [
    "Alphabet_stock['Adj Close'].corr(Alphabet_stock['Close'])"
   ]
  },
  {
   "cell_type": "code",
   "execution_count": 33,
   "metadata": {},
   "outputs": [
    {
     "data": {
      "text/plain": [
       "Index(['index', 'Date', 'Open', 'High', 'Low', 'Close', 'Adj Close', 'Volume',\n",
       "       'MA50', 'MA100', 'MA200'],\n",
       "      dtype='object')"
      ]
     },
     "execution_count": 33,
     "metadata": {},
     "output_type": "execute_result"
    }
   ],
   "source": [
    "Alphabet_stock.columns"
   ]
  },
  {
   "cell_type": "code",
   "execution_count": 34,
   "metadata": {},
   "outputs": [
    {
     "data": {
      "text/plain": [
       "0.9997579115263597"
      ]
     },
     "execution_count": 34,
     "metadata": {},
     "output_type": "execute_result"
    }
   ],
   "source": [
    "Alphabet_stock['Open'].corr(Alphabet_stock['Close'])"
   ]
  },
  {
   "cell_type": "code",
   "execution_count": 35,
   "metadata": {},
   "outputs": [
    {
     "data": {
      "text/plain": [
       "0.9998926729875319"
      ]
     },
     "execution_count": 35,
     "metadata": {},
     "output_type": "execute_result"
    }
   ],
   "source": [
    "Alphabet_stock['Low'].corr(Alphabet_stock['Close'])"
   ]
  },
  {
   "cell_type": "code",
   "execution_count": 36,
   "metadata": {},
   "outputs": [
    {
     "data": {
      "text/plain": [
       "0.999872481471603"
      ]
     },
     "execution_count": 36,
     "metadata": {},
     "output_type": "execute_result"
    }
   ],
   "source": [
    "Alphabet_stock['High'].corr(Alphabet_stock['Close'])"
   ]
  },
  {
   "cell_type": "code",
   "execution_count": 37,
   "metadata": {},
   "outputs": [
    {
     "data": {
      "text/plain": [
       "0.9969522906752663"
      ]
     },
     "execution_count": 37,
     "metadata": {},
     "output_type": "execute_result"
    }
   ],
   "source": [
    "Alphabet_stock_max.corr(Alphabet_stock_min)"
   ]
  },
  {
   "cell_type": "markdown",
   "metadata": {},
   "source": [
    "To do: <br>\n",
    "Explore moving averages <br>\n",
    "Study fourier windows/window sizes <br>\n",
    "Leverage Sam to come up with a more structured goal for a project"
   ]
  },
  {
   "cell_type": "markdown",
   "metadata": {},
   "source": [
    "per six month high, per six month low <br>\n",
    "take the magnitudes and plot a histogram of the fourier transform <br>\n",
    "monotonic rate of the stock: how many times the stocks rises in two consecutive days compared to up and down <br>\n",
    "Does it go up sharply and drop? <br>\n",
    "\n",
    "Take a window, say one day, compute features where each row is the end of the day and columns are the <br>\n",
    "features computed from that window. Derive a target variable, in this case the change in the price. The last column is the ground truth, the ground truth is the price P[x+7]/P[x], where x is the date of the END of the window <br>\n",
    "window1: 1/1/2015 - 2/1/2015 <br>\n",
    "window2: 1/2/2015 - 2/2/2015 <br>\n",
    "window3: 1/3/2015-2/3/2015 <br>\n",
    "Target variable: P[2/7/2015]/P[2/1/2015]"
   ]
  },
  {
   "cell_type": "code",
   "execution_count": 38,
   "metadata": {},
   "outputs": [],
   "source": [
    "start_date_filter = Alphabet_stock[Alphabet_stock['Date'].map(lambda x: x.day) == 1]"
   ]
  },
  {
   "cell_type": "code",
   "execution_count": 39,
   "metadata": {
    "scrolled": true
   },
   "outputs": [
    {
     "data": {
      "text/html": [
       "<div>\n",
       "<style scoped>\n",
       "    .dataframe tbody tr th:only-of-type {\n",
       "        vertical-align: middle;\n",
       "    }\n",
       "\n",
       "    .dataframe tbody tr th {\n",
       "        vertical-align: top;\n",
       "    }\n",
       "\n",
       "    .dataframe thead th {\n",
       "        text-align: right;\n",
       "    }\n",
       "</style>\n",
       "<table border=\"1\" class=\"dataframe\">\n",
       "  <thead>\n",
       "    <tr style=\"text-align: right;\">\n",
       "      <th></th>\n",
       "      <th>index</th>\n",
       "      <th>Date</th>\n",
       "      <th>Open</th>\n",
       "      <th>High</th>\n",
       "      <th>Low</th>\n",
       "      <th>Close</th>\n",
       "      <th>Adj Close</th>\n",
       "      <th>Volume</th>\n",
       "      <th>MA50</th>\n",
       "      <th>MA100</th>\n",
       "      <th>MA200</th>\n",
       "    </tr>\n",
       "  </thead>\n",
       "  <tbody>\n",
       "    <tr>\n",
       "      <th>9</th>\n",
       "      <td>9</td>\n",
       "      <td>2004-09-01</td>\n",
       "      <td>51.158245</td>\n",
       "      <td>51.292744</td>\n",
       "      <td>49.648903</td>\n",
       "      <td>49.937820</td>\n",
       "      <td>49.937820</td>\n",
       "      <td>9181687</td>\n",
       "      <td>NaN</td>\n",
       "      <td>NaN</td>\n",
       "      <td>NaN</td>\n",
       "    </tr>\n",
       "    <tr>\n",
       "      <th>30</th>\n",
       "      <td>30</td>\n",
       "      <td>2004-10-01</td>\n",
       "      <td>65.155777</td>\n",
       "      <td>66.869354</td>\n",
       "      <td>64.209328</td>\n",
       "      <td>66.042458</td>\n",
       "      <td>66.042458</td>\n",
       "      <td>15196748</td>\n",
       "      <td>NaN</td>\n",
       "      <td>NaN</td>\n",
       "      <td>NaN</td>\n",
       "    </tr>\n",
       "    <tr>\n",
       "      <th>51</th>\n",
       "      <td>51</td>\n",
       "      <td>2004-11-01</td>\n",
       "      <td>96.413620</td>\n",
       "      <td>98.465927</td>\n",
       "      <td>95.277878</td>\n",
       "      <td>97.648987</td>\n",
       "      <td>97.648987</td>\n",
       "      <td>24541444</td>\n",
       "      <td>65.059740</td>\n",
       "      <td>NaN</td>\n",
       "      <td>NaN</td>\n",
       "    </tr>\n",
       "    <tr>\n",
       "      <th>72</th>\n",
       "      <td>72</td>\n",
       "      <td>2004-12-01</td>\n",
       "      <td>90.635277</td>\n",
       "      <td>90.909248</td>\n",
       "      <td>89.439758</td>\n",
       "      <td>89.643990</td>\n",
       "      <td>89.643990</td>\n",
       "      <td>15787153</td>\n",
       "      <td>79.602032</td>\n",
       "      <td>NaN</td>\n",
       "      <td>NaN</td>\n",
       "    </tr>\n",
       "    <tr>\n",
       "      <th>114</th>\n",
       "      <td>114</td>\n",
       "      <td>2005-02-01</td>\n",
       "      <td>96.827065</td>\n",
       "      <td>97.962814</td>\n",
       "      <td>94.959068</td>\n",
       "      <td>95.591698</td>\n",
       "      <td>95.591698</td>\n",
       "      <td>37819226</td>\n",
       "      <td>92.323548</td>\n",
       "      <td>83.501117</td>\n",
       "      <td>NaN</td>\n",
       "    </tr>\n",
       "    <tr>\n",
       "      <th>...</th>\n",
       "      <td>...</td>\n",
       "      <td>...</td>\n",
       "      <td>...</td>\n",
       "      <td>...</td>\n",
       "      <td>...</td>\n",
       "      <td>...</td>\n",
       "      <td>...</td>\n",
       "      <td>...</td>\n",
       "      <td>...</td>\n",
       "      <td>...</td>\n",
       "      <td>...</td>\n",
       "    </tr>\n",
       "    <tr>\n",
       "      <th>4037</th>\n",
       "      <td>4037</td>\n",
       "      <td>2020-09-01</td>\n",
       "      <td>1636.630005</td>\n",
       "      <td>1665.729980</td>\n",
       "      <td>1632.219971</td>\n",
       "      <td>1660.709961</td>\n",
       "      <td>1660.709961</td>\n",
       "      <td>1825300</td>\n",
       "      <td>1518.606990</td>\n",
       "      <td>1443.269345</td>\n",
       "      <td>1389.230572</td>\n",
       "    </tr>\n",
       "    <tr>\n",
       "      <th>4058</th>\n",
       "      <td>4058</td>\n",
       "      <td>2020-10-01</td>\n",
       "      <td>1484.270020</td>\n",
       "      <td>1499.040039</td>\n",
       "      <td>1479.209961</td>\n",
       "      <td>1490.089966</td>\n",
       "      <td>1490.089966</td>\n",
       "      <td>1779500</td>\n",
       "      <td>1528.781589</td>\n",
       "      <td>1487.384841</td>\n",
       "      <td>1408.945821</td>\n",
       "    </tr>\n",
       "    <tr>\n",
       "      <th>4100</th>\n",
       "      <td>4100</td>\n",
       "      <td>2020-12-01</td>\n",
       "      <td>1774.369995</td>\n",
       "      <td>1824.829956</td>\n",
       "      <td>1769.369995</td>\n",
       "      <td>1798.099976</td>\n",
       "      <td>1798.099976</td>\n",
       "      <td>1739000</td>\n",
       "      <td>1619.053198</td>\n",
       "      <td>1580.160195</td>\n",
       "      <td>1455.029522</td>\n",
       "    </tr>\n",
       "    <tr>\n",
       "      <th>4141</th>\n",
       "      <td>4141</td>\n",
       "      <td>2021-02-01</td>\n",
       "      <td>1853.569946</td>\n",
       "      <td>1922.391968</td>\n",
       "      <td>1850.930054</td>\n",
       "      <td>1901.349976</td>\n",
       "      <td>1901.349976</td>\n",
       "      <td>1602200</td>\n",
       "      <td>1786.655002</td>\n",
       "      <td>1679.833201</td>\n",
       "      <td>1568.955373</td>\n",
       "    </tr>\n",
       "    <tr>\n",
       "      <th>4160</th>\n",
       "      <td>4160</td>\n",
       "      <td>2021-03-01</td>\n",
       "      <td>2056.520020</td>\n",
       "      <td>2086.520020</td>\n",
       "      <td>2046.099976</td>\n",
       "      <td>2081.510010</td>\n",
       "      <td>2081.510010</td>\n",
       "      <td>1404500</td>\n",
       "      <td>1898.835996</td>\n",
       "      <td>1792.923599</td>\n",
       "      <td>1641.251071</td>\n",
       "    </tr>\n",
       "  </tbody>\n",
       "</table>\n",
       "<p>129 rows × 11 columns</p>\n",
       "</div>"
      ],
      "text/plain": [
       "      index       Date         Open         High          Low        Close  \\\n",
       "9         9 2004-09-01    51.158245    51.292744    49.648903    49.937820   \n",
       "30       30 2004-10-01    65.155777    66.869354    64.209328    66.042458   \n",
       "51       51 2004-11-01    96.413620    98.465927    95.277878    97.648987   \n",
       "72       72 2004-12-01    90.635277    90.909248    89.439758    89.643990   \n",
       "114     114 2005-02-01    96.827065    97.962814    94.959068    95.591698   \n",
       "...     ...        ...          ...          ...          ...          ...   \n",
       "4037   4037 2020-09-01  1636.630005  1665.729980  1632.219971  1660.709961   \n",
       "4058   4058 2020-10-01  1484.270020  1499.040039  1479.209961  1490.089966   \n",
       "4100   4100 2020-12-01  1774.369995  1824.829956  1769.369995  1798.099976   \n",
       "4141   4141 2021-02-01  1853.569946  1922.391968  1850.930054  1901.349976   \n",
       "4160   4160 2021-03-01  2056.520020  2086.520020  2046.099976  2081.510010   \n",
       "\n",
       "        Adj Close    Volume         MA50        MA100        MA200  \n",
       "9       49.937820   9181687          NaN          NaN          NaN  \n",
       "30      66.042458  15196748          NaN          NaN          NaN  \n",
       "51      97.648987  24541444    65.059740          NaN          NaN  \n",
       "72      89.643990  15787153    79.602032          NaN          NaN  \n",
       "114     95.591698  37819226    92.323548    83.501117          NaN  \n",
       "...           ...       ...          ...          ...          ...  \n",
       "4037  1660.709961   1825300  1518.606990  1443.269345  1389.230572  \n",
       "4058  1490.089966   1779500  1528.781589  1487.384841  1408.945821  \n",
       "4100  1798.099976   1739000  1619.053198  1580.160195  1455.029522  \n",
       "4141  1901.349976   1602200  1786.655002  1679.833201  1568.955373  \n",
       "4160  2081.510010   1404500  1898.835996  1792.923599  1641.251071  \n",
       "\n",
       "[129 rows x 11 columns]"
      ]
     },
     "execution_count": 39,
     "metadata": {},
     "output_type": "execute_result"
    }
   ],
   "source": [
    "#filter window dates for lower Close prices\n",
    "start_date_filter"
   ]
  },
  {
   "cell_type": "markdown",
   "metadata": {},
   "source": [
    "There are 40 instances instead of the expected 62 which is the number of 1st of the months between January 2016 and February 2021."
   ]
  },
  {
   "cell_type": "code",
   "execution_count": 40,
   "metadata": {},
   "outputs": [
    {
     "data": {
      "text/plain": [
       "129"
      ]
     },
     "execution_count": 40,
     "metadata": {},
     "output_type": "execute_result"
    }
   ],
   "source": [
    "len(start_date_filter)"
   ]
  },
  {
   "cell_type": "code",
   "execution_count": 41,
   "metadata": {},
   "outputs": [],
   "source": [
    "#filter window dates for higher close price (7th day of the month)\n",
    "close_price_filter = Alphabet_stock[Alphabet_stock['Date'].map(lambda x: x.day) == 7]['Close'].reset_index()\n",
    "close_price_filter1 = Alphabet_stock[Alphabet_stock['Date'].map(lambda x: x.day) == 7]['Date'].reset_index()"
   ]
  },
  {
   "cell_type": "code",
   "execution_count": 42,
   "metadata": {},
   "outputs": [
    {
     "data": {
      "text/plain": [
       "139"
      ]
     },
     "execution_count": 42,
     "metadata": {},
     "output_type": "execute_result"
    }
   ],
   "source": [
    "len(close_price_filter)"
   ]
  },
  {
   "cell_type": "code",
   "execution_count": 43,
   "metadata": {
    "scrolled": true
   },
   "outputs": [],
   "source": [
    "#merge two dataframes to a single dataframe showing close price for 7th day of the month\n",
    "close_price_filter = pd.merge(left = close_price_filter, right = close_price_filter1, on = ['index'])"
   ]
  },
  {
   "cell_type": "code",
   "execution_count": 44,
   "metadata": {
    "scrolled": true
   },
   "outputs": [
    {
     "data": {
      "text/html": [
       "<div>\n",
       "<style scoped>\n",
       "    .dataframe tbody tr th:only-of-type {\n",
       "        vertical-align: middle;\n",
       "    }\n",
       "\n",
       "    .dataframe tbody tr th {\n",
       "        vertical-align: top;\n",
       "    }\n",
       "\n",
       "    .dataframe thead th {\n",
       "        text-align: right;\n",
       "    }\n",
       "</style>\n",
       "<table border=\"1\" class=\"dataframe\">\n",
       "  <thead>\n",
       "    <tr style=\"text-align: right;\">\n",
       "      <th></th>\n",
       "      <th>index</th>\n",
       "      <th>Close</th>\n",
       "      <th>Date</th>\n",
       "    </tr>\n",
       "  </thead>\n",
       "  <tbody>\n",
       "    <tr>\n",
       "      <th>0</th>\n",
       "      <td>12</td>\n",
       "      <td>50.600338</td>\n",
       "      <td>2004-09-07</td>\n",
       "    </tr>\n",
       "    <tr>\n",
       "      <th>1</th>\n",
       "      <td>34</td>\n",
       "      <td>69.165749</td>\n",
       "      <td>2004-10-07</td>\n",
       "    </tr>\n",
       "    <tr>\n",
       "      <th>2</th>\n",
       "      <td>76</td>\n",
       "      <td>85.394920</td>\n",
       "      <td>2004-12-07</td>\n",
       "    </tr>\n",
       "    <tr>\n",
       "      <th>3</th>\n",
       "      <td>98</td>\n",
       "      <td>96.563057</td>\n",
       "      <td>2005-01-07</td>\n",
       "    </tr>\n",
       "    <tr>\n",
       "      <th>4</th>\n",
       "      <td>118</td>\n",
       "      <td>97.648987</td>\n",
       "      <td>2005-02-07</td>\n",
       "    </tr>\n",
       "    <tr>\n",
       "      <th>...</th>\n",
       "      <td>...</td>\n",
       "      <td>...</td>\n",
       "      <td>...</td>\n",
       "    </tr>\n",
       "    <tr>\n",
       "      <th>134</th>\n",
       "      <td>3997</td>\n",
       "      <td>1485.180054</td>\n",
       "      <td>2020-07-07</td>\n",
       "    </tr>\n",
       "    <tr>\n",
       "      <th>135</th>\n",
       "      <td>4020</td>\n",
       "      <td>1494.489990</td>\n",
       "      <td>2020-08-07</td>\n",
       "    </tr>\n",
       "    <tr>\n",
       "      <th>136</th>\n",
       "      <td>4062</td>\n",
       "      <td>1460.290039</td>\n",
       "      <td>2020-10-07</td>\n",
       "    </tr>\n",
       "    <tr>\n",
       "      <th>137</th>\n",
       "      <td>4104</td>\n",
       "      <td>1819.479980</td>\n",
       "      <td>2020-12-07</td>\n",
       "    </tr>\n",
       "    <tr>\n",
       "      <th>138</th>\n",
       "      <td>4125</td>\n",
       "      <td>1787.250000</td>\n",
       "      <td>2021-01-07</td>\n",
       "    </tr>\n",
       "  </tbody>\n",
       "</table>\n",
       "<p>139 rows × 3 columns</p>\n",
       "</div>"
      ],
      "text/plain": [
       "     index        Close       Date\n",
       "0       12    50.600338 2004-09-07\n",
       "1       34    69.165749 2004-10-07\n",
       "2       76    85.394920 2004-12-07\n",
       "3       98    96.563057 2005-01-07\n",
       "4      118    97.648987 2005-02-07\n",
       "..     ...          ...        ...\n",
       "134   3997  1485.180054 2020-07-07\n",
       "135   4020  1494.489990 2020-08-07\n",
       "136   4062  1460.290039 2020-10-07\n",
       "137   4104  1819.479980 2020-12-07\n",
       "138   4125  1787.250000 2021-01-07\n",
       "\n",
       "[139 rows x 3 columns]"
      ]
     },
     "execution_count": 44,
     "metadata": {},
     "output_type": "execute_result"
    }
   ],
   "source": [
    "close_price_filter"
   ]
  },
  {
   "cell_type": "code",
   "execution_count": 45,
   "metadata": {},
   "outputs": [
    {
     "name": "stderr",
     "output_type": "stream",
     "text": [
      "<ipython-input-45-c3d00eb3f745>:1: SettingWithCopyWarning: \n",
      "A value is trying to be set on a copy of a slice from a DataFrame.\n",
      "Try using .loc[row_indexer,col_indexer] = value instead\n",
      "\n",
      "See the caveats in the documentation: https://pandas.pydata.org/pandas-docs/stable/user_guide/indexing.html#returning-a-view-versus-a-copy\n",
      "  start_date_filter['month_year'] = pd.to_datetime(start_date_filter['Date']).dt.to_period('M')\n"
     ]
    }
   ],
   "source": [
    "start_date_filter['month_year'] = pd.to_datetime(start_date_filter['Date']).dt.to_period('M')\n",
    "close_price_filter['month_year'] = pd.to_datetime(close_price_filter['Date']).dt.to_period('M')"
   ]
  },
  {
   "cell_type": "code",
   "execution_count": 46,
   "metadata": {
    "scrolled": true
   },
   "outputs": [
    {
     "data": {
      "text/html": [
       "<div>\n",
       "<style scoped>\n",
       "    .dataframe tbody tr th:only-of-type {\n",
       "        vertical-align: middle;\n",
       "    }\n",
       "\n",
       "    .dataframe tbody tr th {\n",
       "        vertical-align: top;\n",
       "    }\n",
       "\n",
       "    .dataframe thead th {\n",
       "        text-align: right;\n",
       "    }\n",
       "</style>\n",
       "<table border=\"1\" class=\"dataframe\">\n",
       "  <thead>\n",
       "    <tr style=\"text-align: right;\">\n",
       "      <th></th>\n",
       "      <th>index</th>\n",
       "      <th>Close</th>\n",
       "      <th>Date</th>\n",
       "      <th>month_year</th>\n",
       "    </tr>\n",
       "  </thead>\n",
       "  <tbody>\n",
       "    <tr>\n",
       "      <th>0</th>\n",
       "      <td>12</td>\n",
       "      <td>50.600338</td>\n",
       "      <td>2004-09-07</td>\n",
       "      <td>2004-09</td>\n",
       "    </tr>\n",
       "    <tr>\n",
       "      <th>1</th>\n",
       "      <td>34</td>\n",
       "      <td>69.165749</td>\n",
       "      <td>2004-10-07</td>\n",
       "      <td>2004-10</td>\n",
       "    </tr>\n",
       "    <tr>\n",
       "      <th>2</th>\n",
       "      <td>76</td>\n",
       "      <td>85.394920</td>\n",
       "      <td>2004-12-07</td>\n",
       "      <td>2004-12</td>\n",
       "    </tr>\n",
       "    <tr>\n",
       "      <th>3</th>\n",
       "      <td>98</td>\n",
       "      <td>96.563057</td>\n",
       "      <td>2005-01-07</td>\n",
       "      <td>2005-01</td>\n",
       "    </tr>\n",
       "    <tr>\n",
       "      <th>4</th>\n",
       "      <td>118</td>\n",
       "      <td>97.648987</td>\n",
       "      <td>2005-02-07</td>\n",
       "      <td>2005-02</td>\n",
       "    </tr>\n",
       "    <tr>\n",
       "      <th>...</th>\n",
       "      <td>...</td>\n",
       "      <td>...</td>\n",
       "      <td>...</td>\n",
       "      <td>...</td>\n",
       "    </tr>\n",
       "    <tr>\n",
       "      <th>134</th>\n",
       "      <td>3997</td>\n",
       "      <td>1485.180054</td>\n",
       "      <td>2020-07-07</td>\n",
       "      <td>2020-07</td>\n",
       "    </tr>\n",
       "    <tr>\n",
       "      <th>135</th>\n",
       "      <td>4020</td>\n",
       "      <td>1494.489990</td>\n",
       "      <td>2020-08-07</td>\n",
       "      <td>2020-08</td>\n",
       "    </tr>\n",
       "    <tr>\n",
       "      <th>136</th>\n",
       "      <td>4062</td>\n",
       "      <td>1460.290039</td>\n",
       "      <td>2020-10-07</td>\n",
       "      <td>2020-10</td>\n",
       "    </tr>\n",
       "    <tr>\n",
       "      <th>137</th>\n",
       "      <td>4104</td>\n",
       "      <td>1819.479980</td>\n",
       "      <td>2020-12-07</td>\n",
       "      <td>2020-12</td>\n",
       "    </tr>\n",
       "    <tr>\n",
       "      <th>138</th>\n",
       "      <td>4125</td>\n",
       "      <td>1787.250000</td>\n",
       "      <td>2021-01-07</td>\n",
       "      <td>2021-01</td>\n",
       "    </tr>\n",
       "  </tbody>\n",
       "</table>\n",
       "<p>139 rows × 4 columns</p>\n",
       "</div>"
      ],
      "text/plain": [
       "     index        Close       Date month_year\n",
       "0       12    50.600338 2004-09-07    2004-09\n",
       "1       34    69.165749 2004-10-07    2004-10\n",
       "2       76    85.394920 2004-12-07    2004-12\n",
       "3       98    96.563057 2005-01-07    2005-01\n",
       "4      118    97.648987 2005-02-07    2005-02\n",
       "..     ...          ...        ...        ...\n",
       "134   3997  1485.180054 2020-07-07    2020-07\n",
       "135   4020  1494.489990 2020-08-07    2020-08\n",
       "136   4062  1460.290039 2020-10-07    2020-10\n",
       "137   4104  1819.479980 2020-12-07    2020-12\n",
       "138   4125  1787.250000 2021-01-07    2021-01\n",
       "\n",
       "[139 rows x 4 columns]"
      ]
     },
     "execution_count": 46,
     "metadata": {},
     "output_type": "execute_result"
    }
   ],
   "source": [
    "close_price_filter"
   ]
  },
  {
   "cell_type": "code",
   "execution_count": 47,
   "metadata": {},
   "outputs": [],
   "source": [
    "close_price_filter.rename(columns={'Close': 'High_Close'}, inplace=True)"
   ]
  },
  {
   "cell_type": "code",
   "execution_count": 48,
   "metadata": {
    "scrolled": true
   },
   "outputs": [
    {
     "data": {
      "text/html": [
       "<div>\n",
       "<style scoped>\n",
       "    .dataframe tbody tr th:only-of-type {\n",
       "        vertical-align: middle;\n",
       "    }\n",
       "\n",
       "    .dataframe tbody tr th {\n",
       "        vertical-align: top;\n",
       "    }\n",
       "\n",
       "    .dataframe thead th {\n",
       "        text-align: right;\n",
       "    }\n",
       "</style>\n",
       "<table border=\"1\" class=\"dataframe\">\n",
       "  <thead>\n",
       "    <tr style=\"text-align: right;\">\n",
       "      <th></th>\n",
       "      <th>index</th>\n",
       "      <th>High_Close</th>\n",
       "      <th>Date</th>\n",
       "      <th>month_year</th>\n",
       "    </tr>\n",
       "  </thead>\n",
       "  <tbody>\n",
       "    <tr>\n",
       "      <th>0</th>\n",
       "      <td>12</td>\n",
       "      <td>50.600338</td>\n",
       "      <td>2004-09-07</td>\n",
       "      <td>2004-09</td>\n",
       "    </tr>\n",
       "    <tr>\n",
       "      <th>1</th>\n",
       "      <td>34</td>\n",
       "      <td>69.165749</td>\n",
       "      <td>2004-10-07</td>\n",
       "      <td>2004-10</td>\n",
       "    </tr>\n",
       "    <tr>\n",
       "      <th>2</th>\n",
       "      <td>76</td>\n",
       "      <td>85.394920</td>\n",
       "      <td>2004-12-07</td>\n",
       "      <td>2004-12</td>\n",
       "    </tr>\n",
       "    <tr>\n",
       "      <th>3</th>\n",
       "      <td>98</td>\n",
       "      <td>96.563057</td>\n",
       "      <td>2005-01-07</td>\n",
       "      <td>2005-01</td>\n",
       "    </tr>\n",
       "    <tr>\n",
       "      <th>4</th>\n",
       "      <td>118</td>\n",
       "      <td>97.648987</td>\n",
       "      <td>2005-02-07</td>\n",
       "      <td>2005-02</td>\n",
       "    </tr>\n",
       "    <tr>\n",
       "      <th>...</th>\n",
       "      <td>...</td>\n",
       "      <td>...</td>\n",
       "      <td>...</td>\n",
       "      <td>...</td>\n",
       "    </tr>\n",
       "    <tr>\n",
       "      <th>134</th>\n",
       "      <td>3997</td>\n",
       "      <td>1485.180054</td>\n",
       "      <td>2020-07-07</td>\n",
       "      <td>2020-07</td>\n",
       "    </tr>\n",
       "    <tr>\n",
       "      <th>135</th>\n",
       "      <td>4020</td>\n",
       "      <td>1494.489990</td>\n",
       "      <td>2020-08-07</td>\n",
       "      <td>2020-08</td>\n",
       "    </tr>\n",
       "    <tr>\n",
       "      <th>136</th>\n",
       "      <td>4062</td>\n",
       "      <td>1460.290039</td>\n",
       "      <td>2020-10-07</td>\n",
       "      <td>2020-10</td>\n",
       "    </tr>\n",
       "    <tr>\n",
       "      <th>137</th>\n",
       "      <td>4104</td>\n",
       "      <td>1819.479980</td>\n",
       "      <td>2020-12-07</td>\n",
       "      <td>2020-12</td>\n",
       "    </tr>\n",
       "    <tr>\n",
       "      <th>138</th>\n",
       "      <td>4125</td>\n",
       "      <td>1787.250000</td>\n",
       "      <td>2021-01-07</td>\n",
       "      <td>2021-01</td>\n",
       "    </tr>\n",
       "  </tbody>\n",
       "</table>\n",
       "<p>139 rows × 4 columns</p>\n",
       "</div>"
      ],
      "text/plain": [
       "     index   High_Close       Date month_year\n",
       "0       12    50.600338 2004-09-07    2004-09\n",
       "1       34    69.165749 2004-10-07    2004-10\n",
       "2       76    85.394920 2004-12-07    2004-12\n",
       "3       98    96.563057 2005-01-07    2005-01\n",
       "4      118    97.648987 2005-02-07    2005-02\n",
       "..     ...          ...        ...        ...\n",
       "134   3997  1485.180054 2020-07-07    2020-07\n",
       "135   4020  1494.489990 2020-08-07    2020-08\n",
       "136   4062  1460.290039 2020-10-07    2020-10\n",
       "137   4104  1819.479980 2020-12-07    2020-12\n",
       "138   4125  1787.250000 2021-01-07    2021-01\n",
       "\n",
       "[139 rows x 4 columns]"
      ]
     },
     "execution_count": 48,
     "metadata": {},
     "output_type": "execute_result"
    }
   ],
   "source": [
    "close_price_filter"
   ]
  },
  {
   "cell_type": "code",
   "execution_count": 49,
   "metadata": {},
   "outputs": [],
   "source": [
    "filter_df = pd.merge(left = close_price_filter, right = start_date_filter, on = ['month_year'])"
   ]
  },
  {
   "cell_type": "code",
   "execution_count": 50,
   "metadata": {
    "scrolled": true
   },
   "outputs": [
    {
     "data": {
      "text/html": [
       "<div>\n",
       "<style scoped>\n",
       "    .dataframe tbody tr th:only-of-type {\n",
       "        vertical-align: middle;\n",
       "    }\n",
       "\n",
       "    .dataframe tbody tr th {\n",
       "        vertical-align: top;\n",
       "    }\n",
       "\n",
       "    .dataframe thead th {\n",
       "        text-align: right;\n",
       "    }\n",
       "</style>\n",
       "<table border=\"1\" class=\"dataframe\">\n",
       "  <thead>\n",
       "    <tr style=\"text-align: right;\">\n",
       "      <th></th>\n",
       "      <th>index_x</th>\n",
       "      <th>High_Close</th>\n",
       "      <th>Date_x</th>\n",
       "      <th>month_year</th>\n",
       "      <th>index_y</th>\n",
       "      <th>Date_y</th>\n",
       "      <th>Open</th>\n",
       "      <th>High</th>\n",
       "      <th>Low</th>\n",
       "      <th>Close</th>\n",
       "      <th>Adj Close</th>\n",
       "      <th>Volume</th>\n",
       "      <th>MA50</th>\n",
       "      <th>MA100</th>\n",
       "      <th>MA200</th>\n",
       "    </tr>\n",
       "  </thead>\n",
       "  <tbody>\n",
       "    <tr>\n",
       "      <th>0</th>\n",
       "      <td>12</td>\n",
       "      <td>50.600338</td>\n",
       "      <td>2004-09-07</td>\n",
       "      <td>2004-09</td>\n",
       "      <td>9</td>\n",
       "      <td>2004-09-01</td>\n",
       "      <td>51.158245</td>\n",
       "      <td>51.292744</td>\n",
       "      <td>49.648903</td>\n",
       "      <td>49.937820</td>\n",
       "      <td>49.937820</td>\n",
       "      <td>9181687</td>\n",
       "      <td>NaN</td>\n",
       "      <td>NaN</td>\n",
       "      <td>NaN</td>\n",
       "    </tr>\n",
       "    <tr>\n",
       "      <th>1</th>\n",
       "      <td>34</td>\n",
       "      <td>69.165749</td>\n",
       "      <td>2004-10-07</td>\n",
       "      <td>2004-10</td>\n",
       "      <td>30</td>\n",
       "      <td>2004-10-01</td>\n",
       "      <td>65.155777</td>\n",
       "      <td>66.869354</td>\n",
       "      <td>64.209328</td>\n",
       "      <td>66.042458</td>\n",
       "      <td>66.042458</td>\n",
       "      <td>15196748</td>\n",
       "      <td>NaN</td>\n",
       "      <td>NaN</td>\n",
       "      <td>NaN</td>\n",
       "    </tr>\n",
       "    <tr>\n",
       "      <th>2</th>\n",
       "      <td>76</td>\n",
       "      <td>85.394920</td>\n",
       "      <td>2004-12-07</td>\n",
       "      <td>2004-12</td>\n",
       "      <td>72</td>\n",
       "      <td>2004-12-01</td>\n",
       "      <td>90.635277</td>\n",
       "      <td>90.909248</td>\n",
       "      <td>89.439758</td>\n",
       "      <td>89.643990</td>\n",
       "      <td>89.643990</td>\n",
       "      <td>15787153</td>\n",
       "      <td>79.602032</td>\n",
       "      <td>NaN</td>\n",
       "      <td>NaN</td>\n",
       "    </tr>\n",
       "    <tr>\n",
       "      <th>3</th>\n",
       "      <td>118</td>\n",
       "      <td>97.648987</td>\n",
       "      <td>2005-02-07</td>\n",
       "      <td>2005-02</td>\n",
       "      <td>114</td>\n",
       "      <td>2005-02-01</td>\n",
       "      <td>96.827065</td>\n",
       "      <td>97.962814</td>\n",
       "      <td>94.959068</td>\n",
       "      <td>95.591698</td>\n",
       "      <td>95.591698</td>\n",
       "      <td>37819226</td>\n",
       "      <td>92.323548</td>\n",
       "      <td>83.501117</td>\n",
       "      <td>NaN</td>\n",
       "    </tr>\n",
       "    <tr>\n",
       "      <th>4</th>\n",
       "      <td>137</td>\n",
       "      <td>94.052467</td>\n",
       "      <td>2005-03-07</td>\n",
       "      <td>2005-03</td>\n",
       "      <td>133</td>\n",
       "      <td>2005-03-01</td>\n",
       "      <td>94.291573</td>\n",
       "      <td>94.520714</td>\n",
       "      <td>90.660187</td>\n",
       "      <td>92.682602</td>\n",
       "      <td>92.682602</td>\n",
       "      <td>18692201</td>\n",
       "      <td>96.032546</td>\n",
       "      <td>90.407829</td>\n",
       "      <td>NaN</td>\n",
       "    </tr>\n",
       "    <tr>\n",
       "      <th>...</th>\n",
       "      <td>...</td>\n",
       "      <td>...</td>\n",
       "      <td>...</td>\n",
       "      <td>...</td>\n",
       "      <td>...</td>\n",
       "      <td>...</td>\n",
       "      <td>...</td>\n",
       "      <td>...</td>\n",
       "      <td>...</td>\n",
       "      <td>...</td>\n",
       "      <td>...</td>\n",
       "      <td>...</td>\n",
       "      <td>...</td>\n",
       "      <td>...</td>\n",
       "      <td>...</td>\n",
       "    </tr>\n",
       "    <tr>\n",
       "      <th>97</th>\n",
       "      <td>3935</td>\n",
       "      <td>1186.510010</td>\n",
       "      <td>2020-04-07</td>\n",
       "      <td>2020-04</td>\n",
       "      <td>3931</td>\n",
       "      <td>2020-04-01</td>\n",
       "      <td>1122.000000</td>\n",
       "      <td>1129.689941</td>\n",
       "      <td>1097.449951</td>\n",
       "      <td>1105.619995</td>\n",
       "      <td>1105.619995</td>\n",
       "      <td>2344200</td>\n",
       "      <td>1334.857200</td>\n",
       "      <td>1343.329799</td>\n",
       "      <td>1267.248500</td>\n",
       "    </tr>\n",
       "    <tr>\n",
       "      <th>98</th>\n",
       "      <td>3956</td>\n",
       "      <td>1372.560059</td>\n",
       "      <td>2020-05-07</td>\n",
       "      <td>2020-05</td>\n",
       "      <td>3952</td>\n",
       "      <td>2020-05-01</td>\n",
       "      <td>1328.500000</td>\n",
       "      <td>1352.069946</td>\n",
       "      <td>1311.000000</td>\n",
       "      <td>1320.609985</td>\n",
       "      <td>1320.609985</td>\n",
       "      <td>2072500</td>\n",
       "      <td>1234.559602</td>\n",
       "      <td>1329.537900</td>\n",
       "      <td>1280.602052</td>\n",
       "    </tr>\n",
       "    <tr>\n",
       "      <th>99</th>\n",
       "      <td>3997</td>\n",
       "      <td>1485.180054</td>\n",
       "      <td>2020-07-07</td>\n",
       "      <td>2020-07</td>\n",
       "      <td>3994</td>\n",
       "      <td>2020-07-01</td>\n",
       "      <td>1411.099976</td>\n",
       "      <td>1443.000000</td>\n",
       "      <td>1409.819946</td>\n",
       "      <td>1438.040039</td>\n",
       "      <td>1438.040039</td>\n",
       "      <td>1775200</td>\n",
       "      <td>1391.237700</td>\n",
       "      <td>1330.863851</td>\n",
       "      <td>1327.519875</td>\n",
       "    </tr>\n",
       "    <tr>\n",
       "      <th>100</th>\n",
       "      <td>4062</td>\n",
       "      <td>1460.290039</td>\n",
       "      <td>2020-10-07</td>\n",
       "      <td>2020-10</td>\n",
       "      <td>4058</td>\n",
       "      <td>2020-10-01</td>\n",
       "      <td>1484.270020</td>\n",
       "      <td>1499.040039</td>\n",
       "      <td>1479.209961</td>\n",
       "      <td>1490.089966</td>\n",
       "      <td>1490.089966</td>\n",
       "      <td>1779500</td>\n",
       "      <td>1528.781589</td>\n",
       "      <td>1487.384841</td>\n",
       "      <td>1408.945821</td>\n",
       "    </tr>\n",
       "    <tr>\n",
       "      <th>101</th>\n",
       "      <td>4104</td>\n",
       "      <td>1819.479980</td>\n",
       "      <td>2020-12-07</td>\n",
       "      <td>2020-12</td>\n",
       "      <td>4100</td>\n",
       "      <td>2020-12-01</td>\n",
       "      <td>1774.369995</td>\n",
       "      <td>1824.829956</td>\n",
       "      <td>1769.369995</td>\n",
       "      <td>1798.099976</td>\n",
       "      <td>1798.099976</td>\n",
       "      <td>1739000</td>\n",
       "      <td>1619.053198</td>\n",
       "      <td>1580.160195</td>\n",
       "      <td>1455.029522</td>\n",
       "    </tr>\n",
       "  </tbody>\n",
       "</table>\n",
       "<p>102 rows × 15 columns</p>\n",
       "</div>"
      ],
      "text/plain": [
       "     index_x   High_Close     Date_x month_year  index_y     Date_y  \\\n",
       "0         12    50.600338 2004-09-07    2004-09        9 2004-09-01   \n",
       "1         34    69.165749 2004-10-07    2004-10       30 2004-10-01   \n",
       "2         76    85.394920 2004-12-07    2004-12       72 2004-12-01   \n",
       "3        118    97.648987 2005-02-07    2005-02      114 2005-02-01   \n",
       "4        137    94.052467 2005-03-07    2005-03      133 2005-03-01   \n",
       "..       ...          ...        ...        ...      ...        ...   \n",
       "97      3935  1186.510010 2020-04-07    2020-04     3931 2020-04-01   \n",
       "98      3956  1372.560059 2020-05-07    2020-05     3952 2020-05-01   \n",
       "99      3997  1485.180054 2020-07-07    2020-07     3994 2020-07-01   \n",
       "100     4062  1460.290039 2020-10-07    2020-10     4058 2020-10-01   \n",
       "101     4104  1819.479980 2020-12-07    2020-12     4100 2020-12-01   \n",
       "\n",
       "            Open         High          Low        Close    Adj Close  \\\n",
       "0      51.158245    51.292744    49.648903    49.937820    49.937820   \n",
       "1      65.155777    66.869354    64.209328    66.042458    66.042458   \n",
       "2      90.635277    90.909248    89.439758    89.643990    89.643990   \n",
       "3      96.827065    97.962814    94.959068    95.591698    95.591698   \n",
       "4      94.291573    94.520714    90.660187    92.682602    92.682602   \n",
       "..           ...          ...          ...          ...          ...   \n",
       "97   1122.000000  1129.689941  1097.449951  1105.619995  1105.619995   \n",
       "98   1328.500000  1352.069946  1311.000000  1320.609985  1320.609985   \n",
       "99   1411.099976  1443.000000  1409.819946  1438.040039  1438.040039   \n",
       "100  1484.270020  1499.040039  1479.209961  1490.089966  1490.089966   \n",
       "101  1774.369995  1824.829956  1769.369995  1798.099976  1798.099976   \n",
       "\n",
       "       Volume         MA50        MA100        MA200  \n",
       "0     9181687          NaN          NaN          NaN  \n",
       "1    15196748          NaN          NaN          NaN  \n",
       "2    15787153    79.602032          NaN          NaN  \n",
       "3    37819226    92.323548    83.501117          NaN  \n",
       "4    18692201    96.032546    90.407829          NaN  \n",
       "..        ...          ...          ...          ...  \n",
       "97    2344200  1334.857200  1343.329799  1267.248500  \n",
       "98    2072500  1234.559602  1329.537900  1280.602052  \n",
       "99    1775200  1391.237700  1330.863851  1327.519875  \n",
       "100   1779500  1528.781589  1487.384841  1408.945821  \n",
       "101   1739000  1619.053198  1580.160195  1455.029522  \n",
       "\n",
       "[102 rows x 15 columns]"
      ]
     },
     "execution_count": 50,
     "metadata": {},
     "output_type": "execute_result"
    }
   ],
   "source": [
    "filter_df"
   ]
  },
  {
   "cell_type": "code",
   "execution_count": 51,
   "metadata": {},
   "outputs": [],
   "source": [
    "price_change_df = filter_df[['month_year', 'Date_x', 'Date_y', 'Close', 'High_Close']]"
   ]
  },
  {
   "cell_type": "code",
   "execution_count": 52,
   "metadata": {
    "scrolled": true
   },
   "outputs": [
    {
     "data": {
      "text/html": [
       "<div>\n",
       "<style scoped>\n",
       "    .dataframe tbody tr th:only-of-type {\n",
       "        vertical-align: middle;\n",
       "    }\n",
       "\n",
       "    .dataframe tbody tr th {\n",
       "        vertical-align: top;\n",
       "    }\n",
       "\n",
       "    .dataframe thead th {\n",
       "        text-align: right;\n",
       "    }\n",
       "</style>\n",
       "<table border=\"1\" class=\"dataframe\">\n",
       "  <thead>\n",
       "    <tr style=\"text-align: right;\">\n",
       "      <th></th>\n",
       "      <th>month_year</th>\n",
       "      <th>Date_x</th>\n",
       "      <th>Date_y</th>\n",
       "      <th>Close</th>\n",
       "      <th>High_Close</th>\n",
       "    </tr>\n",
       "  </thead>\n",
       "  <tbody>\n",
       "    <tr>\n",
       "      <th>0</th>\n",
       "      <td>2004-09</td>\n",
       "      <td>2004-09-07</td>\n",
       "      <td>2004-09-01</td>\n",
       "      <td>49.937820</td>\n",
       "      <td>50.600338</td>\n",
       "    </tr>\n",
       "    <tr>\n",
       "      <th>1</th>\n",
       "      <td>2004-10</td>\n",
       "      <td>2004-10-07</td>\n",
       "      <td>2004-10-01</td>\n",
       "      <td>66.042458</td>\n",
       "      <td>69.165749</td>\n",
       "    </tr>\n",
       "    <tr>\n",
       "      <th>2</th>\n",
       "      <td>2004-12</td>\n",
       "      <td>2004-12-07</td>\n",
       "      <td>2004-12-01</td>\n",
       "      <td>89.643990</td>\n",
       "      <td>85.394920</td>\n",
       "    </tr>\n",
       "    <tr>\n",
       "      <th>3</th>\n",
       "      <td>2005-02</td>\n",
       "      <td>2005-02-07</td>\n",
       "      <td>2005-02-01</td>\n",
       "      <td>95.591698</td>\n",
       "      <td>97.648987</td>\n",
       "    </tr>\n",
       "    <tr>\n",
       "      <th>4</th>\n",
       "      <td>2005-03</td>\n",
       "      <td>2005-03-07</td>\n",
       "      <td>2005-03-01</td>\n",
       "      <td>92.682602</td>\n",
       "      <td>94.052467</td>\n",
       "    </tr>\n",
       "    <tr>\n",
       "      <th>...</th>\n",
       "      <td>...</td>\n",
       "      <td>...</td>\n",
       "      <td>...</td>\n",
       "      <td>...</td>\n",
       "      <td>...</td>\n",
       "    </tr>\n",
       "    <tr>\n",
       "      <th>97</th>\n",
       "      <td>2020-04</td>\n",
       "      <td>2020-04-07</td>\n",
       "      <td>2020-04-01</td>\n",
       "      <td>1105.619995</td>\n",
       "      <td>1186.510010</td>\n",
       "    </tr>\n",
       "    <tr>\n",
       "      <th>98</th>\n",
       "      <td>2020-05</td>\n",
       "      <td>2020-05-07</td>\n",
       "      <td>2020-05-01</td>\n",
       "      <td>1320.609985</td>\n",
       "      <td>1372.560059</td>\n",
       "    </tr>\n",
       "    <tr>\n",
       "      <th>99</th>\n",
       "      <td>2020-07</td>\n",
       "      <td>2020-07-07</td>\n",
       "      <td>2020-07-01</td>\n",
       "      <td>1438.040039</td>\n",
       "      <td>1485.180054</td>\n",
       "    </tr>\n",
       "    <tr>\n",
       "      <th>100</th>\n",
       "      <td>2020-10</td>\n",
       "      <td>2020-10-07</td>\n",
       "      <td>2020-10-01</td>\n",
       "      <td>1490.089966</td>\n",
       "      <td>1460.290039</td>\n",
       "    </tr>\n",
       "    <tr>\n",
       "      <th>101</th>\n",
       "      <td>2020-12</td>\n",
       "      <td>2020-12-07</td>\n",
       "      <td>2020-12-01</td>\n",
       "      <td>1798.099976</td>\n",
       "      <td>1819.479980</td>\n",
       "    </tr>\n",
       "  </tbody>\n",
       "</table>\n",
       "<p>102 rows × 5 columns</p>\n",
       "</div>"
      ],
      "text/plain": [
       "    month_year     Date_x     Date_y        Close   High_Close\n",
       "0      2004-09 2004-09-07 2004-09-01    49.937820    50.600338\n",
       "1      2004-10 2004-10-07 2004-10-01    66.042458    69.165749\n",
       "2      2004-12 2004-12-07 2004-12-01    89.643990    85.394920\n",
       "3      2005-02 2005-02-07 2005-02-01    95.591698    97.648987\n",
       "4      2005-03 2005-03-07 2005-03-01    92.682602    94.052467\n",
       "..         ...        ...        ...          ...          ...\n",
       "97     2020-04 2020-04-07 2020-04-01  1105.619995  1186.510010\n",
       "98     2020-05 2020-05-07 2020-05-01  1320.609985  1372.560059\n",
       "99     2020-07 2020-07-07 2020-07-01  1438.040039  1485.180054\n",
       "100    2020-10 2020-10-07 2020-10-01  1490.089966  1460.290039\n",
       "101    2020-12 2020-12-07 2020-12-01  1798.099976  1819.479980\n",
       "\n",
       "[102 rows x 5 columns]"
      ]
     },
     "execution_count": 52,
     "metadata": {},
     "output_type": "execute_result"
    }
   ],
   "source": [
    "price_change_df"
   ]
  },
  {
   "cell_type": "code",
   "execution_count": 53,
   "metadata": {},
   "outputs": [
    {
     "name": "stderr",
     "output_type": "stream",
     "text": [
      "<ipython-input-53-ec85c938d7e7>:1: SettingWithCopyWarning: \n",
      "A value is trying to be set on a copy of a slice from a DataFrame.\n",
      "Try using .loc[row_indexer,col_indexer] = value instead\n",
      "\n",
      "See the caveats in the documentation: https://pandas.pydata.org/pandas-docs/stable/user_guide/indexing.html#returning-a-view-versus-a-copy\n",
      "  price_change_df['Price Change'] = price_change_df['High_Close'] / price_change_df['Close']\n"
     ]
    }
   ],
   "source": [
    "price_change_df['Price Change'] = price_change_df['High_Close'] / price_change_df['Close']"
   ]
  },
  {
   "cell_type": "code",
   "execution_count": 54,
   "metadata": {
    "scrolled": true
   },
   "outputs": [
    {
     "data": {
      "text/html": [
       "<div>\n",
       "<style scoped>\n",
       "    .dataframe tbody tr th:only-of-type {\n",
       "        vertical-align: middle;\n",
       "    }\n",
       "\n",
       "    .dataframe tbody tr th {\n",
       "        vertical-align: top;\n",
       "    }\n",
       "\n",
       "    .dataframe thead th {\n",
       "        text-align: right;\n",
       "    }\n",
       "</style>\n",
       "<table border=\"1\" class=\"dataframe\">\n",
       "  <thead>\n",
       "    <tr style=\"text-align: right;\">\n",
       "      <th></th>\n",
       "      <th>month_year</th>\n",
       "      <th>Date_x</th>\n",
       "      <th>Date_y</th>\n",
       "      <th>Close</th>\n",
       "      <th>High_Close</th>\n",
       "      <th>Price Change</th>\n",
       "    </tr>\n",
       "  </thead>\n",
       "  <tbody>\n",
       "    <tr>\n",
       "      <th>0</th>\n",
       "      <td>2004-09</td>\n",
       "      <td>2004-09-07</td>\n",
       "      <td>2004-09-01</td>\n",
       "      <td>49.937820</td>\n",
       "      <td>50.600338</td>\n",
       "      <td>1.013267</td>\n",
       "    </tr>\n",
       "    <tr>\n",
       "      <th>1</th>\n",
       "      <td>2004-10</td>\n",
       "      <td>2004-10-07</td>\n",
       "      <td>2004-10-01</td>\n",
       "      <td>66.042458</td>\n",
       "      <td>69.165749</td>\n",
       "      <td>1.047292</td>\n",
       "    </tr>\n",
       "    <tr>\n",
       "      <th>2</th>\n",
       "      <td>2004-12</td>\n",
       "      <td>2004-12-07</td>\n",
       "      <td>2004-12-01</td>\n",
       "      <td>89.643990</td>\n",
       "      <td>85.394920</td>\n",
       "      <td>0.952601</td>\n",
       "    </tr>\n",
       "    <tr>\n",
       "      <th>3</th>\n",
       "      <td>2005-02</td>\n",
       "      <td>2005-02-07</td>\n",
       "      <td>2005-02-01</td>\n",
       "      <td>95.591698</td>\n",
       "      <td>97.648987</td>\n",
       "      <td>1.021522</td>\n",
       "    </tr>\n",
       "    <tr>\n",
       "      <th>4</th>\n",
       "      <td>2005-03</td>\n",
       "      <td>2005-03-07</td>\n",
       "      <td>2005-03-01</td>\n",
       "      <td>92.682602</td>\n",
       "      <td>94.052467</td>\n",
       "      <td>1.014780</td>\n",
       "    </tr>\n",
       "    <tr>\n",
       "      <th>...</th>\n",
       "      <td>...</td>\n",
       "      <td>...</td>\n",
       "      <td>...</td>\n",
       "      <td>...</td>\n",
       "      <td>...</td>\n",
       "      <td>...</td>\n",
       "    </tr>\n",
       "    <tr>\n",
       "      <th>97</th>\n",
       "      <td>2020-04</td>\n",
       "      <td>2020-04-07</td>\n",
       "      <td>2020-04-01</td>\n",
       "      <td>1105.619995</td>\n",
       "      <td>1186.510010</td>\n",
       "      <td>1.073163</td>\n",
       "    </tr>\n",
       "    <tr>\n",
       "      <th>98</th>\n",
       "      <td>2020-05</td>\n",
       "      <td>2020-05-07</td>\n",
       "      <td>2020-05-01</td>\n",
       "      <td>1320.609985</td>\n",
       "      <td>1372.560059</td>\n",
       "      <td>1.039338</td>\n",
       "    </tr>\n",
       "    <tr>\n",
       "      <th>99</th>\n",
       "      <td>2020-07</td>\n",
       "      <td>2020-07-07</td>\n",
       "      <td>2020-07-01</td>\n",
       "      <td>1438.040039</td>\n",
       "      <td>1485.180054</td>\n",
       "      <td>1.032781</td>\n",
       "    </tr>\n",
       "    <tr>\n",
       "      <th>100</th>\n",
       "      <td>2020-10</td>\n",
       "      <td>2020-10-07</td>\n",
       "      <td>2020-10-01</td>\n",
       "      <td>1490.089966</td>\n",
       "      <td>1460.290039</td>\n",
       "      <td>0.980001</td>\n",
       "    </tr>\n",
       "    <tr>\n",
       "      <th>101</th>\n",
       "      <td>2020-12</td>\n",
       "      <td>2020-12-07</td>\n",
       "      <td>2020-12-01</td>\n",
       "      <td>1798.099976</td>\n",
       "      <td>1819.479980</td>\n",
       "      <td>1.011890</td>\n",
       "    </tr>\n",
       "  </tbody>\n",
       "</table>\n",
       "<p>102 rows × 6 columns</p>\n",
       "</div>"
      ],
      "text/plain": [
       "    month_year     Date_x     Date_y        Close   High_Close  Price Change\n",
       "0      2004-09 2004-09-07 2004-09-01    49.937820    50.600338      1.013267\n",
       "1      2004-10 2004-10-07 2004-10-01    66.042458    69.165749      1.047292\n",
       "2      2004-12 2004-12-07 2004-12-01    89.643990    85.394920      0.952601\n",
       "3      2005-02 2005-02-07 2005-02-01    95.591698    97.648987      1.021522\n",
       "4      2005-03 2005-03-07 2005-03-01    92.682602    94.052467      1.014780\n",
       "..         ...        ...        ...          ...          ...           ...\n",
       "97     2020-04 2020-04-07 2020-04-01  1105.619995  1186.510010      1.073163\n",
       "98     2020-05 2020-05-07 2020-05-01  1320.609985  1372.560059      1.039338\n",
       "99     2020-07 2020-07-07 2020-07-01  1438.040039  1485.180054      1.032781\n",
       "100    2020-10 2020-10-07 2020-10-01  1490.089966  1460.290039      0.980001\n",
       "101    2020-12 2020-12-07 2020-12-01  1798.099976  1819.479980      1.011890\n",
       "\n",
       "[102 rows x 6 columns]"
      ]
     },
     "execution_count": 54,
     "metadata": {},
     "output_type": "execute_result"
    }
   ],
   "source": [
    "price_change_df"
   ]
  },
  {
   "cell_type": "code",
   "execution_count": 55,
   "metadata": {},
   "outputs": [
    {
     "data": {
      "text/html": [
       "<div>\n",
       "<style scoped>\n",
       "    .dataframe tbody tr th:only-of-type {\n",
       "        vertical-align: middle;\n",
       "    }\n",
       "\n",
       "    .dataframe tbody tr th {\n",
       "        vertical-align: top;\n",
       "    }\n",
       "\n",
       "    .dataframe thead th {\n",
       "        text-align: right;\n",
       "    }\n",
       "</style>\n",
       "<table border=\"1\" class=\"dataframe\">\n",
       "  <thead>\n",
       "    <tr style=\"text-align: right;\">\n",
       "      <th></th>\n",
       "      <th>index</th>\n",
       "      <th>Price Change</th>\n",
       "    </tr>\n",
       "  </thead>\n",
       "  <tbody>\n",
       "    <tr>\n",
       "      <th>0</th>\n",
       "      <td>count</td>\n",
       "      <td>102.000000</td>\n",
       "    </tr>\n",
       "    <tr>\n",
       "      <th>1</th>\n",
       "      <td>mean</td>\n",
       "      <td>1.003614</td>\n",
       "    </tr>\n",
       "    <tr>\n",
       "      <th>2</th>\n",
       "      <td>std</td>\n",
       "      <td>0.033072</td>\n",
       "    </tr>\n",
       "    <tr>\n",
       "      <th>3</th>\n",
       "      <td>min</td>\n",
       "      <td>0.840401</td>\n",
       "    </tr>\n",
       "    <tr>\n",
       "      <th>4</th>\n",
       "      <td>25%</td>\n",
       "      <td>0.989318</td>\n",
       "    </tr>\n",
       "    <tr>\n",
       "      <th>5</th>\n",
       "      <td>50%</td>\n",
       "      <td>1.006049</td>\n",
       "    </tr>\n",
       "    <tr>\n",
       "      <th>6</th>\n",
       "      <td>75%</td>\n",
       "      <td>1.019964</td>\n",
       "    </tr>\n",
       "    <tr>\n",
       "      <th>7</th>\n",
       "      <td>max</td>\n",
       "      <td>1.076205</td>\n",
       "    </tr>\n",
       "  </tbody>\n",
       "</table>\n",
       "</div>"
      ],
      "text/plain": [
       "   index  Price Change\n",
       "0  count    102.000000\n",
       "1   mean      1.003614\n",
       "2    std      0.033072\n",
       "3    min      0.840401\n",
       "4    25%      0.989318\n",
       "5    50%      1.006049\n",
       "6    75%      1.019964\n",
       "7    max      1.076205"
      ]
     },
     "execution_count": 55,
     "metadata": {},
     "output_type": "execute_result"
    }
   ],
   "source": [
    "price_change_df['Price Change'].describe().reset_index()"
   ]
  },
  {
   "cell_type": "code",
   "execution_count": 56,
   "metadata": {},
   "outputs": [
    {
     "data": {
      "text/plain": [
       "month_year           period[M]\n",
       "Date_x          datetime64[ns]\n",
       "Date_y          datetime64[ns]\n",
       "Close                  float64\n",
       "High_Close             float64\n",
       "Price Change           float64\n",
       "dtype: object"
      ]
     },
     "execution_count": 56,
     "metadata": {},
     "output_type": "execute_result"
    }
   ],
   "source": [
    "price_change_df.dtypes"
   ]
  },
  {
   "cell_type": "code",
   "execution_count": 57,
   "metadata": {
    "scrolled": false
   },
   "outputs": [
    {
     "data": {
      "text/plain": [
       "Text(0, 0.5, 'Price change')"
      ]
     },
     "execution_count": 57,
     "metadata": {},
     "output_type": "execute_result"
    },
    {
     "data": {
      "image/png": "[encoded data removed]",
      "text/plain": [
       "<Figure size 1152x648 with 1 Axes>"
      ]
     },
     "metadata": {
      "needs_background": "light"
     },
     "output_type": "display_data"
    }
   ],
   "source": [
    "ax = price_change_df.plot(figsize=(16, 9), x = 'month_year', y = 'Price Change', title='Google price changes in dollars between 2016 and 2021')\n",
    "ax.set_xlabel(\"Years between 2016 and 2021\")\n",
    "ax.set_ylabel(\"Price change\")"
   ]
  },
  {
   "cell_type": "code",
   "execution_count": 58,
   "metadata": {},
   "outputs": [
    {
     "data": {
      "text/plain": [
       "False"
      ]
     },
     "execution_count": 58,
     "metadata": {},
     "output_type": "execute_result"
    }
   ],
   "source": [
    "Alphabet_stock['Close'].is_monotonic_increasing"
   ]
  },
  {
   "cell_type": "code",
   "execution_count": 59,
   "metadata": {},
   "outputs": [
    {
     "data": {
      "text/plain": [
       "False"
      ]
     },
     "execution_count": 59,
     "metadata": {},
     "output_type": "execute_result"
    }
   ],
   "source": [
    "price_change_df['Price Change'].is_monotonic_increasing"
   ]
  },
  {
   "cell_type": "markdown",
   "metadata": {},
   "source": [
    "Create new column for t/f for < 1 or > 1 <br>\n",
    "compute min, max, average for each window <br>\n",
    "revenue, profit of the company <br>\n",
    "download weka, select price change as target variables and do prediction based on the derived features <br>\n",
    "Future directions: Getting larger dataset, Feature selection"
   ]
  },
  {
   "cell_type": "code",
   "execution_count": 60,
   "metadata": {},
   "outputs": [
    {
     "data": {
      "text/html": [
       "<div>\n",
       "<style scoped>\n",
       "    .dataframe tbody tr th:only-of-type {\n",
       "        vertical-align: middle;\n",
       "    }\n",
       "\n",
       "    .dataframe tbody tr th {\n",
       "        vertical-align: top;\n",
       "    }\n",
       "\n",
       "    .dataframe thead th {\n",
       "        text-align: right;\n",
       "    }\n",
       "</style>\n",
       "<table border=\"1\" class=\"dataframe\">\n",
       "  <thead>\n",
       "    <tr style=\"text-align: right;\">\n",
       "      <th></th>\n",
       "      <th>index</th>\n",
       "      <th>Date</th>\n",
       "      <th>Open</th>\n",
       "      <th>High</th>\n",
       "      <th>Low</th>\n",
       "      <th>Close</th>\n",
       "      <th>Adj Close</th>\n",
       "      <th>Volume</th>\n",
       "      <th>MA50</th>\n",
       "      <th>MA100</th>\n",
       "      <th>MA200</th>\n",
       "    </tr>\n",
       "  </thead>\n",
       "  <tbody>\n",
       "    <tr>\n",
       "      <th>0</th>\n",
       "      <td>0</td>\n",
       "      <td>2004-08-19</td>\n",
       "      <td>49.813290</td>\n",
       "      <td>51.835709</td>\n",
       "      <td>47.800831</td>\n",
       "      <td>49.982655</td>\n",
       "      <td>49.982655</td>\n",
       "      <td>44871361</td>\n",
       "      <td>NaN</td>\n",
       "      <td>NaN</td>\n",
       "      <td>NaN</td>\n",
       "    </tr>\n",
       "    <tr>\n",
       "      <th>1</th>\n",
       "      <td>1</td>\n",
       "      <td>2004-08-20</td>\n",
       "      <td>50.316402</td>\n",
       "      <td>54.336334</td>\n",
       "      <td>50.062355</td>\n",
       "      <td>53.952770</td>\n",
       "      <td>53.952770</td>\n",
       "      <td>22942874</td>\n",
       "      <td>NaN</td>\n",
       "      <td>NaN</td>\n",
       "      <td>NaN</td>\n",
       "    </tr>\n",
       "    <tr>\n",
       "      <th>2</th>\n",
       "      <td>2</td>\n",
       "      <td>2004-08-23</td>\n",
       "      <td>55.168217</td>\n",
       "      <td>56.528118</td>\n",
       "      <td>54.321388</td>\n",
       "      <td>54.495735</td>\n",
       "      <td>54.495735</td>\n",
       "      <td>18342897</td>\n",
       "      <td>NaN</td>\n",
       "      <td>NaN</td>\n",
       "      <td>NaN</td>\n",
       "    </tr>\n",
       "    <tr>\n",
       "      <th>3</th>\n",
       "      <td>3</td>\n",
       "      <td>2004-08-24</td>\n",
       "      <td>55.412300</td>\n",
       "      <td>55.591629</td>\n",
       "      <td>51.591621</td>\n",
       "      <td>52.239197</td>\n",
       "      <td>52.239197</td>\n",
       "      <td>15319808</td>\n",
       "      <td>NaN</td>\n",
       "      <td>NaN</td>\n",
       "      <td>NaN</td>\n",
       "    </tr>\n",
       "    <tr>\n",
       "      <th>4</th>\n",
       "      <td>4</td>\n",
       "      <td>2004-08-25</td>\n",
       "      <td>52.284027</td>\n",
       "      <td>53.798351</td>\n",
       "      <td>51.746044</td>\n",
       "      <td>52.802086</td>\n",
       "      <td>52.802086</td>\n",
       "      <td>9232276</td>\n",
       "      <td>NaN</td>\n",
       "      <td>NaN</td>\n",
       "      <td>NaN</td>\n",
       "    </tr>\n",
       "    <tr>\n",
       "      <th>...</th>\n",
       "      <td>...</td>\n",
       "      <td>...</td>\n",
       "      <td>...</td>\n",
       "      <td>...</td>\n",
       "      <td>...</td>\n",
       "      <td>...</td>\n",
       "      <td>...</td>\n",
       "      <td>...</td>\n",
       "      <td>...</td>\n",
       "      <td>...</td>\n",
       "      <td>...</td>\n",
       "    </tr>\n",
       "    <tr>\n",
       "      <th>4165</th>\n",
       "      <td>4165</td>\n",
       "      <td>2021-03-08</td>\n",
       "      <td>2101.129883</td>\n",
       "      <td>2128.810059</td>\n",
       "      <td>2021.609985</td>\n",
       "      <td>2024.170044</td>\n",
       "      <td>2024.170044</td>\n",
       "      <td>1646000</td>\n",
       "      <td>1930.427400</td>\n",
       "      <td>1820.926801</td>\n",
       "      <td>1658.205497</td>\n",
       "    </tr>\n",
       "    <tr>\n",
       "      <th>4166</th>\n",
       "      <td>4166</td>\n",
       "      <td>2021-03-09</td>\n",
       "      <td>2070.000000</td>\n",
       "      <td>2078.040039</td>\n",
       "      <td>2047.829956</td>\n",
       "      <td>2052.699951</td>\n",
       "      <td>2052.699951</td>\n",
       "      <td>1696400</td>\n",
       "      <td>1936.833799</td>\n",
       "      <td>1825.737000</td>\n",
       "      <td>1661.454997</td>\n",
       "    </tr>\n",
       "    <tr>\n",
       "      <th>4167</th>\n",
       "      <td>4167</td>\n",
       "      <td>2021-03-10</td>\n",
       "      <td>2071.760010</td>\n",
       "      <td>2075.000000</td>\n",
       "      <td>2033.369995</td>\n",
       "      <td>2055.030029</td>\n",
       "      <td>2055.030029</td>\n",
       "      <td>1267800</td>\n",
       "      <td>1943.157400</td>\n",
       "      <td>1830.606500</td>\n",
       "      <td>1664.678047</td>\n",
       "    </tr>\n",
       "    <tr>\n",
       "      <th>4168</th>\n",
       "      <td>4168</td>\n",
       "      <td>2021-03-11</td>\n",
       "      <td>2074.060059</td>\n",
       "      <td>2125.699951</td>\n",
       "      <td>2072.379883</td>\n",
       "      <td>2114.770020</td>\n",
       "      <td>2114.770020</td>\n",
       "      <td>1238300</td>\n",
       "      <td>1949.931001</td>\n",
       "      <td>1836.162900</td>\n",
       "      <td>1668.166797</td>\n",
       "    </tr>\n",
       "    <tr>\n",
       "      <th>4169</th>\n",
       "      <td>4169</td>\n",
       "      <td>2021-03-12</td>\n",
       "      <td>2085.000000</td>\n",
       "      <td>2090.260010</td>\n",
       "      <td>2047.550049</td>\n",
       "      <td>2061.919922</td>\n",
       "      <td>2061.919922</td>\n",
       "      <td>1725000</td>\n",
       "      <td>1955.995000</td>\n",
       "      <td>1841.052000</td>\n",
       "      <td>1671.387197</td>\n",
       "    </tr>\n",
       "  </tbody>\n",
       "</table>\n",
       "<p>4170 rows × 11 columns</p>\n",
       "</div>"
      ],
      "text/plain": [
       "      index       Date         Open         High          Low        Close  \\\n",
       "0         0 2004-08-19    49.813290    51.835709    47.800831    49.982655   \n",
       "1         1 2004-08-20    50.316402    54.336334    50.062355    53.952770   \n",
       "2         2 2004-08-23    55.168217    56.528118    54.321388    54.495735   \n",
       "3         3 2004-08-24    55.412300    55.591629    51.591621    52.239197   \n",
       "4         4 2004-08-25    52.284027    53.798351    51.746044    52.802086   \n",
       "...     ...        ...          ...          ...          ...          ...   \n",
       "4165   4165 2021-03-08  2101.129883  2128.810059  2021.609985  2024.170044   \n",
       "4166   4166 2021-03-09  2070.000000  2078.040039  2047.829956  2052.699951   \n",
       "4167   4167 2021-03-10  2071.760010  2075.000000  2033.369995  2055.030029   \n",
       "4168   4168 2021-03-11  2074.060059  2125.699951  2072.379883  2114.770020   \n",
       "4169   4169 2021-03-12  2085.000000  2090.260010  2047.550049  2061.919922   \n",
       "\n",
       "        Adj Close    Volume         MA50        MA100        MA200  \n",
       "0       49.982655  44871361          NaN          NaN          NaN  \n",
       "1       53.952770  22942874          NaN          NaN          NaN  \n",
       "2       54.495735  18342897          NaN          NaN          NaN  \n",
       "3       52.239197  15319808          NaN          NaN          NaN  \n",
       "4       52.802086   9232276          NaN          NaN          NaN  \n",
       "...           ...       ...          ...          ...          ...  \n",
       "4165  2024.170044   1646000  1930.427400  1820.926801  1658.205497  \n",
       "4166  2052.699951   1696400  1936.833799  1825.737000  1661.454997  \n",
       "4167  2055.030029   1267800  1943.157400  1830.606500  1664.678047  \n",
       "4168  2114.770020   1238300  1949.931001  1836.162900  1668.166797  \n",
       "4169  2061.919922   1725000  1955.995000  1841.052000  1671.387197  \n",
       "\n",
       "[4170 rows x 11 columns]"
      ]
     },
     "execution_count": 60,
     "metadata": {},
     "output_type": "execute_result"
    }
   ],
   "source": [
    "# Derive the min, max, average 'close' for each month of alphabet stock\n",
    "Alphabet_stock"
   ]
  },
  {
   "cell_type": "code",
   "execution_count": 61,
   "metadata": {},
   "outputs": [
    {
     "name": "stderr",
     "output_type": "stream",
     "text": [
      "<ipython-input-61-a277db39c987>:3: SettingWithCopyWarning: \n",
      "A value is trying to be set on a copy of a slice from a DataFrame.\n",
      "Try using .loc[row_indexer,col_indexer] = value instead\n",
      "\n",
      "See the caveats in the documentation: https://pandas.pydata.org/pandas-docs/stable/user_guide/indexing.html#returning-a-view-versus-a-copy\n",
      "  xyz['Date'] = pd.to_datetime(xyz['Date'])\n"
     ]
    }
   ],
   "source": [
    "xyz = Alphabet_stock[['Date', 'Close']]\n",
    "# use a grouper function to find the monthly average\n",
    "xyz['Date'] = pd.to_datetime(xyz['Date'])"
   ]
  },
  {
   "cell_type": "code",
   "execution_count": 62,
   "metadata": {},
   "outputs": [],
   "source": [
    "xyz1 = xyz.groupby(pd.Grouper(key = 'Date', freq = '1M')).mean()\n",
    "xyz1.reset_index(inplace=True)\n",
    "xyz1['month_year'] = pd.to_datetime(xyz1['Date']).dt.to_period('M')\n",
    "xyz1 = xyz1[['month_year', 'Close']]"
   ]
  },
  {
   "cell_type": "code",
   "execution_count": 63,
   "metadata": {},
   "outputs": [
    {
     "data": {
      "text/html": [
       "<div>\n",
       "<style scoped>\n",
       "    .dataframe tbody tr th:only-of-type {\n",
       "        vertical-align: middle;\n",
       "    }\n",
       "\n",
       "    .dataframe tbody tr th {\n",
       "        vertical-align: top;\n",
       "    }\n",
       "\n",
       "    .dataframe thead th {\n",
       "        text-align: right;\n",
       "    }\n",
       "</style>\n",
       "<table border=\"1\" class=\"dataframe\">\n",
       "  <thead>\n",
       "    <tr style=\"text-align: right;\">\n",
       "      <th></th>\n",
       "      <th>month_year</th>\n",
       "      <th>Close</th>\n",
       "    </tr>\n",
       "  </thead>\n",
       "  <tbody>\n",
       "    <tr>\n",
       "      <th>0</th>\n",
       "      <td>2004-08</td>\n",
       "      <td>52.434573</td>\n",
       "    </tr>\n",
       "    <tr>\n",
       "      <th>1</th>\n",
       "      <td>2004-09</td>\n",
       "      <td>56.402162</td>\n",
       "    </tr>\n",
       "    <tr>\n",
       "      <th>2</th>\n",
       "      <td>2004-10</td>\n",
       "      <td>76.329375</td>\n",
       "    </tr>\n",
       "    <tr>\n",
       "      <th>3</th>\n",
       "      <td>2004-11</td>\n",
       "      <td>88.416214</td>\n",
       "    </tr>\n",
       "    <tr>\n",
       "      <th>4</th>\n",
       "      <td>2004-12</td>\n",
       "      <td>90.545612</td>\n",
       "    </tr>\n",
       "    <tr>\n",
       "      <th>...</th>\n",
       "      <td>...</td>\n",
       "      <td>...</td>\n",
       "    </tr>\n",
       "    <tr>\n",
       "      <th>195</th>\n",
       "      <td>2020-11</td>\n",
       "      <td>1748.348499</td>\n",
       "    </tr>\n",
       "    <tr>\n",
       "      <th>196</th>\n",
       "      <td>2020-12</td>\n",
       "      <td>1772.278182</td>\n",
       "    </tr>\n",
       "    <tr>\n",
       "      <th>197</th>\n",
       "      <td>2021-01</td>\n",
       "      <td>1808.383693</td>\n",
       "    </tr>\n",
       "    <tr>\n",
       "      <th>198</th>\n",
       "      <td>2021-02</td>\n",
       "      <td>2068.356824</td>\n",
       "    </tr>\n",
       "    <tr>\n",
       "      <th>199</th>\n",
       "      <td>2021-03</td>\n",
       "      <td>2065.028015</td>\n",
       "    </tr>\n",
       "  </tbody>\n",
       "</table>\n",
       "<p>200 rows × 2 columns</p>\n",
       "</div>"
      ],
      "text/plain": [
       "    month_year        Close\n",
       "0      2004-08    52.434573\n",
       "1      2004-09    56.402162\n",
       "2      2004-10    76.329375\n",
       "3      2004-11    88.416214\n",
       "4      2004-12    90.545612\n",
       "..         ...          ...\n",
       "195    2020-11  1748.348499\n",
       "196    2020-12  1772.278182\n",
       "197    2021-01  1808.383693\n",
       "198    2021-02  2068.356824\n",
       "199    2021-03  2065.028015\n",
       "\n",
       "[200 rows x 2 columns]"
      ]
     },
     "execution_count": 63,
     "metadata": {},
     "output_type": "execute_result"
    }
   ],
   "source": [
    "xyz1"
   ]
  },
  {
   "cell_type": "code",
   "execution_count": 64,
   "metadata": {},
   "outputs": [],
   "source": [
    "xyz2 = xyz.groupby(pd.Grouper(key = 'Date', freq = '1M')).min()\n",
    "xyz2.reset_index(inplace=True)\n",
    "xyz2['month_year'] = pd.to_datetime(xyz2['Date']).dt.to_period('M')\n",
    "xyz2 = xyz2[['month_year', 'Close']]"
   ]
  },
  {
   "cell_type": "code",
   "execution_count": 65,
   "metadata": {},
   "outputs": [
    {
     "data": {
      "text/html": [
       "<div>\n",
       "<style scoped>\n",
       "    .dataframe tbody tr th:only-of-type {\n",
       "        vertical-align: middle;\n",
       "    }\n",
       "\n",
       "    .dataframe tbody tr th {\n",
       "        vertical-align: top;\n",
       "    }\n",
       "\n",
       "    .dataframe thead th {\n",
       "        text-align: right;\n",
       "    }\n",
       "</style>\n",
       "<table border=\"1\" class=\"dataframe\">\n",
       "  <thead>\n",
       "    <tr style=\"text-align: right;\">\n",
       "      <th></th>\n",
       "      <th>month_year</th>\n",
       "      <th>Close</th>\n",
       "    </tr>\n",
       "  </thead>\n",
       "  <tbody>\n",
       "    <tr>\n",
       "      <th>0</th>\n",
       "      <td>2004-08</td>\n",
       "      <td>49.982655</td>\n",
       "    </tr>\n",
       "    <tr>\n",
       "      <th>1</th>\n",
       "      <td>2004-09</td>\n",
       "      <td>49.818268</td>\n",
       "    </tr>\n",
       "    <tr>\n",
       "      <th>2</th>\n",
       "      <td>2004-10</td>\n",
       "      <td>66.042458</td>\n",
       "    </tr>\n",
       "    <tr>\n",
       "      <th>3</th>\n",
       "      <td>2004-11</td>\n",
       "      <td>82.241737</td>\n",
       "    </tr>\n",
       "    <tr>\n",
       "      <th>4</th>\n",
       "      <td>2004-12</td>\n",
       "      <td>84.672623</td>\n",
       "    </tr>\n",
       "    <tr>\n",
       "      <th>...</th>\n",
       "      <td>...</td>\n",
       "      <td>...</td>\n",
       "    </tr>\n",
       "    <tr>\n",
       "      <th>195</th>\n",
       "      <td>2020-11</td>\n",
       "      <td>1626.030029</td>\n",
       "    </tr>\n",
       "    <tr>\n",
       "      <th>196</th>\n",
       "      <td>2020-12</td>\n",
       "      <td>1723.500000</td>\n",
       "    </tr>\n",
       "    <tr>\n",
       "      <th>197</th>\n",
       "      <td>2021-01</td>\n",
       "      <td>1728.239990</td>\n",
       "    </tr>\n",
       "    <tr>\n",
       "      <th>198</th>\n",
       "      <td>2021-02</td>\n",
       "      <td>1901.349976</td>\n",
       "    </tr>\n",
       "    <tr>\n",
       "      <th>199</th>\n",
       "      <td>2021-03</td>\n",
       "      <td>2024.170044</td>\n",
       "    </tr>\n",
       "  </tbody>\n",
       "</table>\n",
       "<p>200 rows × 2 columns</p>\n",
       "</div>"
      ],
      "text/plain": [
       "    month_year        Close\n",
       "0      2004-08    49.982655\n",
       "1      2004-09    49.818268\n",
       "2      2004-10    66.042458\n",
       "3      2004-11    82.241737\n",
       "4      2004-12    84.672623\n",
       "..         ...          ...\n",
       "195    2020-11  1626.030029\n",
       "196    2020-12  1723.500000\n",
       "197    2021-01  1728.239990\n",
       "198    2021-02  1901.349976\n",
       "199    2021-03  2024.170044\n",
       "\n",
       "[200 rows x 2 columns]"
      ]
     },
     "execution_count": 65,
     "metadata": {},
     "output_type": "execute_result"
    }
   ],
   "source": [
    "xyz2"
   ]
  },
  {
   "cell_type": "code",
   "execution_count": 66,
   "metadata": {},
   "outputs": [],
   "source": [
    "xyz3 = xyz.groupby(pd.Grouper(key = 'Date', freq = '1M')).max()\n",
    "xyz3.reset_index(inplace=True)\n",
    "xyz3['month_year'] = pd.to_datetime(xyz3['Date']).dt.to_period('M')\n",
    "xyz3 = xyz3[['month_year', 'Close']]"
   ]
  },
  {
   "cell_type": "code",
   "execution_count": 67,
   "metadata": {},
   "outputs": [
    {
     "data": {
      "text/html": [
       "<div>\n",
       "<style scoped>\n",
       "    .dataframe tbody tr th:only-of-type {\n",
       "        vertical-align: middle;\n",
       "    }\n",
       "\n",
       "    .dataframe tbody tr th {\n",
       "        vertical-align: top;\n",
       "    }\n",
       "\n",
       "    .dataframe thead th {\n",
       "        text-align: right;\n",
       "    }\n",
       "</style>\n",
       "<table border=\"1\" class=\"dataframe\">\n",
       "  <thead>\n",
       "    <tr style=\"text-align: right;\">\n",
       "      <th></th>\n",
       "      <th>month_year</th>\n",
       "      <th>Close</th>\n",
       "    </tr>\n",
       "  </thead>\n",
       "  <tbody>\n",
       "    <tr>\n",
       "      <th>0</th>\n",
       "      <td>2004-08</td>\n",
       "      <td>54.495735</td>\n",
       "    </tr>\n",
       "    <tr>\n",
       "      <th>1</th>\n",
       "      <td>2004-09</td>\n",
       "      <td>65.295258</td>\n",
       "    </tr>\n",
       "    <tr>\n",
       "      <th>2</th>\n",
       "      <td>2004-10</td>\n",
       "      <td>96.289085</td>\n",
       "    </tr>\n",
       "    <tr>\n",
       "      <th>3</th>\n",
       "      <td>2004-11</td>\n",
       "      <td>97.648987</td>\n",
       "    </tr>\n",
       "    <tr>\n",
       "      <th>4</th>\n",
       "      <td>2004-12</td>\n",
       "      <td>98.431053</td>\n",
       "    </tr>\n",
       "    <tr>\n",
       "      <th>...</th>\n",
       "      <td>...</td>\n",
       "      <td>...</td>\n",
       "    </tr>\n",
       "    <tr>\n",
       "      <th>195</th>\n",
       "      <td>2020-11</td>\n",
       "      <td>1793.189941</td>\n",
       "    </tr>\n",
       "    <tr>\n",
       "      <th>196</th>\n",
       "      <td>2020-12</td>\n",
       "      <td>1827.989990</td>\n",
       "    </tr>\n",
       "    <tr>\n",
       "      <th>197</th>\n",
       "      <td>2021-01</td>\n",
       "      <td>1917.239990</td>\n",
       "    </tr>\n",
       "    <tr>\n",
       "      <th>198</th>\n",
       "      <td>2021-02</td>\n",
       "      <td>2128.310059</td>\n",
       "    </tr>\n",
       "    <tr>\n",
       "      <th>199</th>\n",
       "      <td>2021-03</td>\n",
       "      <td>2114.770020</td>\n",
       "    </tr>\n",
       "  </tbody>\n",
       "</table>\n",
       "<p>200 rows × 2 columns</p>\n",
       "</div>"
      ],
      "text/plain": [
       "    month_year        Close\n",
       "0      2004-08    54.495735\n",
       "1      2004-09    65.295258\n",
       "2      2004-10    96.289085\n",
       "3      2004-11    97.648987\n",
       "4      2004-12    98.431053\n",
       "..         ...          ...\n",
       "195    2020-11  1793.189941\n",
       "196    2020-12  1827.989990\n",
       "197    2021-01  1917.239990\n",
       "198    2021-02  2128.310059\n",
       "199    2021-03  2114.770020\n",
       "\n",
       "[200 rows x 2 columns]"
      ]
     },
     "execution_count": 67,
     "metadata": {},
     "output_type": "execute_result"
    }
   ],
   "source": [
    "xyz3"
   ]
  },
  {
   "cell_type": "code",
   "execution_count": 68,
   "metadata": {},
   "outputs": [],
   "source": [
    "price_change_df_clean = price_change_df[['month_year', 'Close', 'High_Close', 'Price Change']]"
   ]
  },
  {
   "cell_type": "code",
   "execution_count": 69,
   "metadata": {
    "scrolled": true
   },
   "outputs": [
    {
     "data": {
      "text/html": [
       "<div>\n",
       "<style scoped>\n",
       "    .dataframe tbody tr th:only-of-type {\n",
       "        vertical-align: middle;\n",
       "    }\n",
       "\n",
       "    .dataframe tbody tr th {\n",
       "        vertical-align: top;\n",
       "    }\n",
       "\n",
       "    .dataframe thead th {\n",
       "        text-align: right;\n",
       "    }\n",
       "</style>\n",
       "<table border=\"1\" class=\"dataframe\">\n",
       "  <thead>\n",
       "    <tr style=\"text-align: right;\">\n",
       "      <th></th>\n",
       "      <th>month_year</th>\n",
       "      <th>Close</th>\n",
       "      <th>High_Close</th>\n",
       "      <th>Price Change</th>\n",
       "    </tr>\n",
       "  </thead>\n",
       "  <tbody>\n",
       "    <tr>\n",
       "      <th>0</th>\n",
       "      <td>2004-09</td>\n",
       "      <td>49.937820</td>\n",
       "      <td>50.600338</td>\n",
       "      <td>1.013267</td>\n",
       "    </tr>\n",
       "    <tr>\n",
       "      <th>1</th>\n",
       "      <td>2004-10</td>\n",
       "      <td>66.042458</td>\n",
       "      <td>69.165749</td>\n",
       "      <td>1.047292</td>\n",
       "    </tr>\n",
       "    <tr>\n",
       "      <th>2</th>\n",
       "      <td>2004-12</td>\n",
       "      <td>89.643990</td>\n",
       "      <td>85.394920</td>\n",
       "      <td>0.952601</td>\n",
       "    </tr>\n",
       "    <tr>\n",
       "      <th>3</th>\n",
       "      <td>2005-02</td>\n",
       "      <td>95.591698</td>\n",
       "      <td>97.648987</td>\n",
       "      <td>1.021522</td>\n",
       "    </tr>\n",
       "    <tr>\n",
       "      <th>4</th>\n",
       "      <td>2005-03</td>\n",
       "      <td>92.682602</td>\n",
       "      <td>94.052467</td>\n",
       "      <td>1.014780</td>\n",
       "    </tr>\n",
       "    <tr>\n",
       "      <th>...</th>\n",
       "      <td>...</td>\n",
       "      <td>...</td>\n",
       "      <td>...</td>\n",
       "      <td>...</td>\n",
       "    </tr>\n",
       "    <tr>\n",
       "      <th>97</th>\n",
       "      <td>2020-04</td>\n",
       "      <td>1105.619995</td>\n",
       "      <td>1186.510010</td>\n",
       "      <td>1.073163</td>\n",
       "    </tr>\n",
       "    <tr>\n",
       "      <th>98</th>\n",
       "      <td>2020-05</td>\n",
       "      <td>1320.609985</td>\n",
       "      <td>1372.560059</td>\n",
       "      <td>1.039338</td>\n",
       "    </tr>\n",
       "    <tr>\n",
       "      <th>99</th>\n",
       "      <td>2020-07</td>\n",
       "      <td>1438.040039</td>\n",
       "      <td>1485.180054</td>\n",
       "      <td>1.032781</td>\n",
       "    </tr>\n",
       "    <tr>\n",
       "      <th>100</th>\n",
       "      <td>2020-10</td>\n",
       "      <td>1490.089966</td>\n",
       "      <td>1460.290039</td>\n",
       "      <td>0.980001</td>\n",
       "    </tr>\n",
       "    <tr>\n",
       "      <th>101</th>\n",
       "      <td>2020-12</td>\n",
       "      <td>1798.099976</td>\n",
       "      <td>1819.479980</td>\n",
       "      <td>1.011890</td>\n",
       "    </tr>\n",
       "  </tbody>\n",
       "</table>\n",
       "<p>102 rows × 4 columns</p>\n",
       "</div>"
      ],
      "text/plain": [
       "    month_year        Close   High_Close  Price Change\n",
       "0      2004-09    49.937820    50.600338      1.013267\n",
       "1      2004-10    66.042458    69.165749      1.047292\n",
       "2      2004-12    89.643990    85.394920      0.952601\n",
       "3      2005-02    95.591698    97.648987      1.021522\n",
       "4      2005-03    92.682602    94.052467      1.014780\n",
       "..         ...          ...          ...           ...\n",
       "97     2020-04  1105.619995  1186.510010      1.073163\n",
       "98     2020-05  1320.609985  1372.560059      1.039338\n",
       "99     2020-07  1438.040039  1485.180054      1.032781\n",
       "100    2020-10  1490.089966  1460.290039      0.980001\n",
       "101    2020-12  1798.099976  1819.479980      1.011890\n",
       "\n",
       "[102 rows x 4 columns]"
      ]
     },
     "execution_count": 69,
     "metadata": {},
     "output_type": "execute_result"
    }
   ],
   "source": [
    "price_change_df_clean"
   ]
  },
  {
   "cell_type": "code",
   "execution_count": 70,
   "metadata": {},
   "outputs": [],
   "source": [
    "merged_df_list = [xyz1, xyz2, xyz3]"
   ]
  },
  {
   "cell_type": "code",
   "execution_count": 71,
   "metadata": {},
   "outputs": [],
   "source": [
    "from functools import reduce\n",
    "df_final = reduce(lambda left,right: pd.merge(left,right,on='month_year'), merged_df_list)"
   ]
  },
  {
   "cell_type": "code",
   "execution_count": 72,
   "metadata": {},
   "outputs": [],
   "source": [
    "df_final.rename(columns={'Close_x': 'Average Close', 'Close_y': 'Minimum Close', 'Close': 'High Close'}, inplace=True)"
   ]
  },
  {
   "cell_type": "code",
   "execution_count": 73,
   "metadata": {},
   "outputs": [
    {
     "data": {
      "text/html": [
       "<div>\n",
       "<style scoped>\n",
       "    .dataframe tbody tr th:only-of-type {\n",
       "        vertical-align: middle;\n",
       "    }\n",
       "\n",
       "    .dataframe tbody tr th {\n",
       "        vertical-align: top;\n",
       "    }\n",
       "\n",
       "    .dataframe thead th {\n",
       "        text-align: right;\n",
       "    }\n",
       "</style>\n",
       "<table border=\"1\" class=\"dataframe\">\n",
       "  <thead>\n",
       "    <tr style=\"text-align: right;\">\n",
       "      <th></th>\n",
       "      <th>month_year</th>\n",
       "      <th>Average Close</th>\n",
       "      <th>Minimum Close</th>\n",
       "      <th>High Close</th>\n",
       "    </tr>\n",
       "  </thead>\n",
       "  <tbody>\n",
       "    <tr>\n",
       "      <th>0</th>\n",
       "      <td>2004-08</td>\n",
       "      <td>52.434573</td>\n",
       "      <td>49.982655</td>\n",
       "      <td>54.495735</td>\n",
       "    </tr>\n",
       "    <tr>\n",
       "      <th>1</th>\n",
       "      <td>2004-09</td>\n",
       "      <td>56.402162</td>\n",
       "      <td>49.818268</td>\n",
       "      <td>65.295258</td>\n",
       "    </tr>\n",
       "    <tr>\n",
       "      <th>2</th>\n",
       "      <td>2004-10</td>\n",
       "      <td>76.329375</td>\n",
       "      <td>66.042458</td>\n",
       "      <td>96.289085</td>\n",
       "    </tr>\n",
       "    <tr>\n",
       "      <th>3</th>\n",
       "      <td>2004-11</td>\n",
       "      <td>88.416214</td>\n",
       "      <td>82.241737</td>\n",
       "      <td>97.648987</td>\n",
       "    </tr>\n",
       "    <tr>\n",
       "      <th>4</th>\n",
       "      <td>2004-12</td>\n",
       "      <td>90.545612</td>\n",
       "      <td>84.672623</td>\n",
       "      <td>98.431053</td>\n",
       "    </tr>\n",
       "    <tr>\n",
       "      <th>...</th>\n",
       "      <td>...</td>\n",
       "      <td>...</td>\n",
       "      <td>...</td>\n",
       "      <td>...</td>\n",
       "    </tr>\n",
       "    <tr>\n",
       "      <th>195</th>\n",
       "      <td>2020-11</td>\n",
       "      <td>1748.348499</td>\n",
       "      <td>1626.030029</td>\n",
       "      <td>1793.189941</td>\n",
       "    </tr>\n",
       "    <tr>\n",
       "      <th>196</th>\n",
       "      <td>2020-12</td>\n",
       "      <td>1772.278182</td>\n",
       "      <td>1723.500000</td>\n",
       "      <td>1827.989990</td>\n",
       "    </tr>\n",
       "    <tr>\n",
       "      <th>197</th>\n",
       "      <td>2021-01</td>\n",
       "      <td>1808.383693</td>\n",
       "      <td>1728.239990</td>\n",
       "      <td>1917.239990</td>\n",
       "    </tr>\n",
       "    <tr>\n",
       "      <th>198</th>\n",
       "      <td>2021-02</td>\n",
       "      <td>2068.356824</td>\n",
       "      <td>1901.349976</td>\n",
       "      <td>2128.310059</td>\n",
       "    </tr>\n",
       "    <tr>\n",
       "      <th>199</th>\n",
       "      <td>2021-03</td>\n",
       "      <td>2065.028015</td>\n",
       "      <td>2024.170044</td>\n",
       "      <td>2114.770020</td>\n",
       "    </tr>\n",
       "  </tbody>\n",
       "</table>\n",
       "<p>200 rows × 4 columns</p>\n",
       "</div>"
      ],
      "text/plain": [
       "    month_year  Average Close  Minimum Close   High Close\n",
       "0      2004-08      52.434573      49.982655    54.495735\n",
       "1      2004-09      56.402162      49.818268    65.295258\n",
       "2      2004-10      76.329375      66.042458    96.289085\n",
       "3      2004-11      88.416214      82.241737    97.648987\n",
       "4      2004-12      90.545612      84.672623    98.431053\n",
       "..         ...            ...            ...          ...\n",
       "195    2020-11    1748.348499    1626.030029  1793.189941\n",
       "196    2020-12    1772.278182    1723.500000  1827.989990\n",
       "197    2021-01    1808.383693    1728.239990  1917.239990\n",
       "198    2021-02    2068.356824    1901.349976  2128.310059\n",
       "199    2021-03    2065.028015    2024.170044  2114.770020\n",
       "\n",
       "[200 rows x 4 columns]"
      ]
     },
     "execution_count": 73,
     "metadata": {},
     "output_type": "execute_result"
    }
   ],
   "source": [
    "df_final"
   ]
  },
  {
   "cell_type": "code",
   "execution_count": 74,
   "metadata": {
    "scrolled": true
   },
   "outputs": [
    {
     "data": {
      "text/html": [
       "<div>\n",
       "<style scoped>\n",
       "    .dataframe tbody tr th:only-of-type {\n",
       "        vertical-align: middle;\n",
       "    }\n",
       "\n",
       "    .dataframe tbody tr th {\n",
       "        vertical-align: top;\n",
       "    }\n",
       "\n",
       "    .dataframe thead th {\n",
       "        text-align: right;\n",
       "    }\n",
       "</style>\n",
       "<table border=\"1\" class=\"dataframe\">\n",
       "  <thead>\n",
       "    <tr style=\"text-align: right;\">\n",
       "      <th></th>\n",
       "      <th>month_year</th>\n",
       "      <th>Close</th>\n",
       "      <th>High Close</th>\n",
       "      <th>Price Change</th>\n",
       "    </tr>\n",
       "  </thead>\n",
       "  <tbody>\n",
       "    <tr>\n",
       "      <th>0</th>\n",
       "      <td>2004-09</td>\n",
       "      <td>49.937820</td>\n",
       "      <td>50.600338</td>\n",
       "      <td>1.013267</td>\n",
       "    </tr>\n",
       "    <tr>\n",
       "      <th>1</th>\n",
       "      <td>2004-10</td>\n",
       "      <td>66.042458</td>\n",
       "      <td>69.165749</td>\n",
       "      <td>1.047292</td>\n",
       "    </tr>\n",
       "    <tr>\n",
       "      <th>2</th>\n",
       "      <td>2004-12</td>\n",
       "      <td>89.643990</td>\n",
       "      <td>85.394920</td>\n",
       "      <td>0.952601</td>\n",
       "    </tr>\n",
       "    <tr>\n",
       "      <th>3</th>\n",
       "      <td>2005-02</td>\n",
       "      <td>95.591698</td>\n",
       "      <td>97.648987</td>\n",
       "      <td>1.021522</td>\n",
       "    </tr>\n",
       "    <tr>\n",
       "      <th>4</th>\n",
       "      <td>2005-03</td>\n",
       "      <td>92.682602</td>\n",
       "      <td>94.052467</td>\n",
       "      <td>1.014780</td>\n",
       "    </tr>\n",
       "    <tr>\n",
       "      <th>...</th>\n",
       "      <td>...</td>\n",
       "      <td>...</td>\n",
       "      <td>...</td>\n",
       "      <td>...</td>\n",
       "    </tr>\n",
       "    <tr>\n",
       "      <th>97</th>\n",
       "      <td>2020-04</td>\n",
       "      <td>1105.619995</td>\n",
       "      <td>1186.510010</td>\n",
       "      <td>1.073163</td>\n",
       "    </tr>\n",
       "    <tr>\n",
       "      <th>98</th>\n",
       "      <td>2020-05</td>\n",
       "      <td>1320.609985</td>\n",
       "      <td>1372.560059</td>\n",
       "      <td>1.039338</td>\n",
       "    </tr>\n",
       "    <tr>\n",
       "      <th>99</th>\n",
       "      <td>2020-07</td>\n",
       "      <td>1438.040039</td>\n",
       "      <td>1485.180054</td>\n",
       "      <td>1.032781</td>\n",
       "    </tr>\n",
       "    <tr>\n",
       "      <th>100</th>\n",
       "      <td>2020-10</td>\n",
       "      <td>1490.089966</td>\n",
       "      <td>1460.290039</td>\n",
       "      <td>0.980001</td>\n",
       "    </tr>\n",
       "    <tr>\n",
       "      <th>101</th>\n",
       "      <td>2020-12</td>\n",
       "      <td>1798.099976</td>\n",
       "      <td>1819.479980</td>\n",
       "      <td>1.011890</td>\n",
       "    </tr>\n",
       "  </tbody>\n",
       "</table>\n",
       "<p>102 rows × 4 columns</p>\n",
       "</div>"
      ],
      "text/plain": [
       "    month_year        Close   High Close  Price Change\n",
       "0      2004-09    49.937820    50.600338      1.013267\n",
       "1      2004-10    66.042458    69.165749      1.047292\n",
       "2      2004-12    89.643990    85.394920      0.952601\n",
       "3      2005-02    95.591698    97.648987      1.021522\n",
       "4      2005-03    92.682602    94.052467      1.014780\n",
       "..         ...          ...          ...           ...\n",
       "97     2020-04  1105.619995  1186.510010      1.073163\n",
       "98     2020-05  1320.609985  1372.560059      1.039338\n",
       "99     2020-07  1438.040039  1485.180054      1.032781\n",
       "100    2020-10  1490.089966  1460.290039      0.980001\n",
       "101    2020-12  1798.099976  1819.479980      1.011890\n",
       "\n",
       "[102 rows x 4 columns]"
      ]
     },
     "execution_count": 74,
     "metadata": {},
     "output_type": "execute_result"
    }
   ],
   "source": [
    "price_change_df_clean.rename(columns = {'High_Close': 'High Close'})"
   ]
  },
  {
   "cell_type": "code",
   "execution_count": 75,
   "metadata": {
    "scrolled": true
   },
   "outputs": [],
   "source": [
    "#close_price_filter = pd.merge(left = close_price_filter, right = close_price_filter1, on = ['index'])\n",
    "price_change_df_clean = price_change_df_clean.merge(df_final, how = 'left', on = 'month_year')"
   ]
  },
  {
   "cell_type": "code",
   "execution_count": 76,
   "metadata": {},
   "outputs": [],
   "source": [
    "price_change_df_clean.loc[price_change_df_clean['Price Change'] < 1, 'Price Change'] = 0\n",
    "price_change_df_clean.loc[price_change_df_clean['Price Change'] > 1, 'Price Change'] = 1"
   ]
  },
  {
   "cell_type": "code",
   "execution_count": 77,
   "metadata": {},
   "outputs": [],
   "source": [
    "price_change_df_clean1 = price_change_df_clean[['month_year', 'Close', 'Average Close', 'Minimum Close', 'High Close', \n",
    "                                         'Price Change']]"
   ]
  },
  {
   "cell_type": "code",
   "execution_count": 78,
   "metadata": {
    "scrolled": true
   },
   "outputs": [
    {
     "data": {
      "text/html": [
       "<div>\n",
       "<style scoped>\n",
       "    .dataframe tbody tr th:only-of-type {\n",
       "        vertical-align: middle;\n",
       "    }\n",
       "\n",
       "    .dataframe tbody tr th {\n",
       "        vertical-align: top;\n",
       "    }\n",
       "\n",
       "    .dataframe thead th {\n",
       "        text-align: right;\n",
       "    }\n",
       "</style>\n",
       "<table border=\"1\" class=\"dataframe\">\n",
       "  <thead>\n",
       "    <tr style=\"text-align: right;\">\n",
       "      <th></th>\n",
       "      <th>month_year</th>\n",
       "      <th>Close</th>\n",
       "      <th>Average Close</th>\n",
       "      <th>Minimum Close</th>\n",
       "      <th>High Close</th>\n",
       "      <th>Price Change</th>\n",
       "    </tr>\n",
       "  </thead>\n",
       "  <tbody>\n",
       "    <tr>\n",
       "      <th>0</th>\n",
       "      <td>2004-09</td>\n",
       "      <td>49.937820</td>\n",
       "      <td>56.402162</td>\n",
       "      <td>49.818268</td>\n",
       "      <td>65.295258</td>\n",
       "      <td>1.0</td>\n",
       "    </tr>\n",
       "    <tr>\n",
       "      <th>1</th>\n",
       "      <td>2004-10</td>\n",
       "      <td>66.042458</td>\n",
       "      <td>76.329375</td>\n",
       "      <td>66.042458</td>\n",
       "      <td>96.289085</td>\n",
       "      <td>1.0</td>\n",
       "    </tr>\n",
       "    <tr>\n",
       "      <th>2</th>\n",
       "      <td>2004-12</td>\n",
       "      <td>89.643990</td>\n",
       "      <td>90.545612</td>\n",
       "      <td>84.672623</td>\n",
       "      <td>98.431053</td>\n",
       "      <td>0.0</td>\n",
       "    </tr>\n",
       "    <tr>\n",
       "      <th>3</th>\n",
       "      <td>2005-02</td>\n",
       "      <td>95.591698</td>\n",
       "      <td>97.142726</td>\n",
       "      <td>92.587959</td>\n",
       "      <td>105.036301</td>\n",
       "      <td>1.0</td>\n",
       "    </tr>\n",
       "    <tr>\n",
       "      <th>4</th>\n",
       "      <td>2005-03</td>\n",
       "      <td>92.682602</td>\n",
       "      <td>90.240846</td>\n",
       "      <td>87.168274</td>\n",
       "      <td>94.052467</td>\n",
       "      <td>1.0</td>\n",
       "    </tr>\n",
       "    <tr>\n",
       "      <th>...</th>\n",
       "      <td>...</td>\n",
       "      <td>...</td>\n",
       "      <td>...</td>\n",
       "      <td>...</td>\n",
       "      <td>...</td>\n",
       "      <td>...</td>\n",
       "    </tr>\n",
       "    <tr>\n",
       "      <th>97</th>\n",
       "      <td>2020-04</td>\n",
       "      <td>1105.619995</td>\n",
       "      <td>1234.140480</td>\n",
       "      <td>1097.880005</td>\n",
       "      <td>1348.660034</td>\n",
       "      <td>1.0</td>\n",
       "    </tr>\n",
       "    <tr>\n",
       "      <th>98</th>\n",
       "      <td>2020-05</td>\n",
       "      <td>1320.609985</td>\n",
       "      <td>1381.113751</td>\n",
       "      <td>1320.609985</td>\n",
       "      <td>1428.920044</td>\n",
       "      <td>1.0</td>\n",
       "    </tr>\n",
       "    <tr>\n",
       "      <th>99</th>\n",
       "      <td>2020-07</td>\n",
       "      <td>1438.040039</td>\n",
       "      <td>1513.573176</td>\n",
       "      <td>1438.040039</td>\n",
       "      <td>1568.489990</td>\n",
       "      <td>1.0</td>\n",
       "    </tr>\n",
       "    <tr>\n",
       "      <th>100</th>\n",
       "      <td>2020-10</td>\n",
       "      <td>1490.089966</td>\n",
       "      <td>1546.828186</td>\n",
       "      <td>1453.439941</td>\n",
       "      <td>1641.000000</td>\n",
       "      <td>0.0</td>\n",
       "    </tr>\n",
       "    <tr>\n",
       "      <th>101</th>\n",
       "      <td>2020-12</td>\n",
       "      <td>1798.099976</td>\n",
       "      <td>1772.278182</td>\n",
       "      <td>1723.500000</td>\n",
       "      <td>1827.989990</td>\n",
       "      <td>1.0</td>\n",
       "    </tr>\n",
       "  </tbody>\n",
       "</table>\n",
       "<p>102 rows × 6 columns</p>\n",
       "</div>"
      ],
      "text/plain": [
       "    month_year        Close  Average Close  Minimum Close   High Close  \\\n",
       "0      2004-09    49.937820      56.402162      49.818268    65.295258   \n",
       "1      2004-10    66.042458      76.329375      66.042458    96.289085   \n",
       "2      2004-12    89.643990      90.545612      84.672623    98.431053   \n",
       "3      2005-02    95.591698      97.142726      92.587959   105.036301   \n",
       "4      2005-03    92.682602      90.240846      87.168274    94.052467   \n",
       "..         ...          ...            ...            ...          ...   \n",
       "97     2020-04  1105.619995    1234.140480    1097.880005  1348.660034   \n",
       "98     2020-05  1320.609985    1381.113751    1320.609985  1428.920044   \n",
       "99     2020-07  1438.040039    1513.573176    1438.040039  1568.489990   \n",
       "100    2020-10  1490.089966    1546.828186    1453.439941  1641.000000   \n",
       "101    2020-12  1798.099976    1772.278182    1723.500000  1827.989990   \n",
       "\n",
       "     Price Change  \n",
       "0             1.0  \n",
       "1             1.0  \n",
       "2             0.0  \n",
       "3             1.0  \n",
       "4             1.0  \n",
       "..            ...  \n",
       "97            1.0  \n",
       "98            1.0  \n",
       "99            1.0  \n",
       "100           0.0  \n",
       "101           1.0  \n",
       "\n",
       "[102 rows x 6 columns]"
      ]
     },
     "execution_count": 78,
     "metadata": {},
     "output_type": "execute_result"
    }
   ],
   "source": [
    "price_change_df_clean1"
   ]
  },
  {
   "cell_type": "code",
   "execution_count": 79,
   "metadata": {},
   "outputs": [
    {
     "name": "stderr",
     "output_type": "stream",
     "text": [
      "<ipython-input-79-0f43e808eeb4>:1: SettingWithCopyWarning: \n",
      "A value is trying to be set on a copy of a slice from a DataFrame.\n",
      "Try using .loc[row_indexer,col_indexer] = value instead\n",
      "\n",
      "See the caveats in the documentation: https://pandas.pydata.org/pandas-docs/stable/user_guide/indexing.html#returning-a-view-versus-a-copy\n",
      "  price_change_df_clean1['Price Change'] = price_change_df_clean1['Price Change'].astype(int)\n"
     ]
    }
   ],
   "source": [
    "price_change_df_clean1['Price Change'] = price_change_df_clean1['Price Change'].astype(int) "
   ]
  },
  {
   "cell_type": "code",
   "execution_count": 80,
   "metadata": {
    "scrolled": true
   },
   "outputs": [
    {
     "data": {
      "text/html": [
       "<div>\n",
       "<style scoped>\n",
       "    .dataframe tbody tr th:only-of-type {\n",
       "        vertical-align: middle;\n",
       "    }\n",
       "\n",
       "    .dataframe tbody tr th {\n",
       "        vertical-align: top;\n",
       "    }\n",
       "\n",
       "    .dataframe thead th {\n",
       "        text-align: right;\n",
       "    }\n",
       "</style>\n",
       "<table border=\"1\" class=\"dataframe\">\n",
       "  <thead>\n",
       "    <tr style=\"text-align: right;\">\n",
       "      <th></th>\n",
       "      <th>month_year</th>\n",
       "      <th>Close</th>\n",
       "      <th>Average Close</th>\n",
       "      <th>Minimum Close</th>\n",
       "      <th>High Close</th>\n",
       "      <th>Price Change</th>\n",
       "    </tr>\n",
       "  </thead>\n",
       "  <tbody>\n",
       "    <tr>\n",
       "      <th>0</th>\n",
       "      <td>2004-09</td>\n",
       "      <td>49.937820</td>\n",
       "      <td>56.402162</td>\n",
       "      <td>49.818268</td>\n",
       "      <td>65.295258</td>\n",
       "      <td>1</td>\n",
       "    </tr>\n",
       "    <tr>\n",
       "      <th>1</th>\n",
       "      <td>2004-10</td>\n",
       "      <td>66.042458</td>\n",
       "      <td>76.329375</td>\n",
       "      <td>66.042458</td>\n",
       "      <td>96.289085</td>\n",
       "      <td>1</td>\n",
       "    </tr>\n",
       "    <tr>\n",
       "      <th>2</th>\n",
       "      <td>2004-12</td>\n",
       "      <td>89.643990</td>\n",
       "      <td>90.545612</td>\n",
       "      <td>84.672623</td>\n",
       "      <td>98.431053</td>\n",
       "      <td>0</td>\n",
       "    </tr>\n",
       "    <tr>\n",
       "      <th>3</th>\n",
       "      <td>2005-02</td>\n",
       "      <td>95.591698</td>\n",
       "      <td>97.142726</td>\n",
       "      <td>92.587959</td>\n",
       "      <td>105.036301</td>\n",
       "      <td>1</td>\n",
       "    </tr>\n",
       "    <tr>\n",
       "      <th>4</th>\n",
       "      <td>2005-03</td>\n",
       "      <td>92.682602</td>\n",
       "      <td>90.240846</td>\n",
       "      <td>87.168274</td>\n",
       "      <td>94.052467</td>\n",
       "      <td>1</td>\n",
       "    </tr>\n",
       "    <tr>\n",
       "      <th>...</th>\n",
       "      <td>...</td>\n",
       "      <td>...</td>\n",
       "      <td>...</td>\n",
       "      <td>...</td>\n",
       "      <td>...</td>\n",
       "      <td>...</td>\n",
       "    </tr>\n",
       "    <tr>\n",
       "      <th>97</th>\n",
       "      <td>2020-04</td>\n",
       "      <td>1105.619995</td>\n",
       "      <td>1234.140480</td>\n",
       "      <td>1097.880005</td>\n",
       "      <td>1348.660034</td>\n",
       "      <td>1</td>\n",
       "    </tr>\n",
       "    <tr>\n",
       "      <th>98</th>\n",
       "      <td>2020-05</td>\n",
       "      <td>1320.609985</td>\n",
       "      <td>1381.113751</td>\n",
       "      <td>1320.609985</td>\n",
       "      <td>1428.920044</td>\n",
       "      <td>1</td>\n",
       "    </tr>\n",
       "    <tr>\n",
       "      <th>99</th>\n",
       "      <td>2020-07</td>\n",
       "      <td>1438.040039</td>\n",
       "      <td>1513.573176</td>\n",
       "      <td>1438.040039</td>\n",
       "      <td>1568.489990</td>\n",
       "      <td>1</td>\n",
       "    </tr>\n",
       "    <tr>\n",
       "      <th>100</th>\n",
       "      <td>2020-10</td>\n",
       "      <td>1490.089966</td>\n",
       "      <td>1546.828186</td>\n",
       "      <td>1453.439941</td>\n",
       "      <td>1641.000000</td>\n",
       "      <td>0</td>\n",
       "    </tr>\n",
       "    <tr>\n",
       "      <th>101</th>\n",
       "      <td>2020-12</td>\n",
       "      <td>1798.099976</td>\n",
       "      <td>1772.278182</td>\n",
       "      <td>1723.500000</td>\n",
       "      <td>1827.989990</td>\n",
       "      <td>1</td>\n",
       "    </tr>\n",
       "  </tbody>\n",
       "</table>\n",
       "<p>102 rows × 6 columns</p>\n",
       "</div>"
      ],
      "text/plain": [
       "    month_year        Close  Average Close  Minimum Close   High Close  \\\n",
       "0      2004-09    49.937820      56.402162      49.818268    65.295258   \n",
       "1      2004-10    66.042458      76.329375      66.042458    96.289085   \n",
       "2      2004-12    89.643990      90.545612      84.672623    98.431053   \n",
       "3      2005-02    95.591698      97.142726      92.587959   105.036301   \n",
       "4      2005-03    92.682602      90.240846      87.168274    94.052467   \n",
       "..         ...          ...            ...            ...          ...   \n",
       "97     2020-04  1105.619995    1234.140480    1097.880005  1348.660034   \n",
       "98     2020-05  1320.609985    1381.113751    1320.609985  1428.920044   \n",
       "99     2020-07  1438.040039    1513.573176    1438.040039  1568.489990   \n",
       "100    2020-10  1490.089966    1546.828186    1453.439941  1641.000000   \n",
       "101    2020-12  1798.099976    1772.278182    1723.500000  1827.989990   \n",
       "\n",
       "     Price Change  \n",
       "0               1  \n",
       "1               1  \n",
       "2               0  \n",
       "3               1  \n",
       "4               1  \n",
       "..            ...  \n",
       "97              1  \n",
       "98              1  \n",
       "99              1  \n",
       "100             0  \n",
       "101             1  \n",
       "\n",
       "[102 rows x 6 columns]"
      ]
     },
     "execution_count": 80,
     "metadata": {},
     "output_type": "execute_result"
    }
   ],
   "source": [
    "price_change_df_clean1"
   ]
  },
  {
   "cell_type": "code",
   "execution_count": 81,
   "metadata": {},
   "outputs": [],
   "source": [
    "#price_change_df_clean1.to_csv('Google_Price_Change_data')\n",
    "#price_change_df_clean1.to_excel('Google_Price_Change_data2.xlsx')\n",
    "price_change_df_clean1.to_csv('Google_Price_Change_data_binary1')"
   ]
  },
  {
   "cell_type": "markdown",
   "metadata": {},
   "source": [
    "use both scikit and weka to make prediction (change binary output in weka to true/false) <br>\n",
    "second attempt: by how much does the price go up or down <br>\n",
    "https://www.investopedia.com/terms/m/market_indicators.asp#:~:text=The%20two%20most%20common%20types,direction%20as%20a%20larger%20trend.&text=Market%20Sentiment%20indicators%20compare%20price,bearish%20on%20the%20overall%20market <br>\n",
    "http://localhost:8888/edit/data%20science%20in%20practice/stock%20prediction%20yahoo%20finance/scikit_code_classifiers.py <br>\n",
    "credit: https://www.datacamp.com/community/tutorials/understanding-logistic-regression-python"
   ]
  },
  {
   "cell_type": "code",
   "execution_count": 82,
   "metadata": {},
   "outputs": [],
   "source": [
    "#define features and target\n",
    "X = price_change_df_clean1[['Close', 'Average Close', 'Minimum Close', 'High Close']]\n",
    "y = price_change_df_clean1['Price Change']"
   ]
  },
  {
   "cell_type": "code",
   "execution_count": 83,
   "metadata": {},
   "outputs": [],
   "source": [
    "# split X and y into training and testing sets\n",
    "from sklearn.model_selection import train_test_split\n",
    "X_train, X_test, y_train, y_test = train_test_split(X, y ,test_size = 0.25, random_state = 0)"
   ]
  },
  {
   "cell_type": "code",
   "execution_count": 84,
   "metadata": {},
   "outputs": [],
   "source": [
    "# import the class\n",
    "from sklearn.linear_model import LogisticRegression\n",
    "\n",
    "# instantiate the model (using the default parameters)\n",
    "logreg = LogisticRegression()\n",
    "\n",
    "# fit the model with data\n",
    "logreg.fit(X_train, y_train)\n",
    "\n",
    "#\n",
    "y_pred = logreg.predict(X_test)"
   ]
  },
  {
   "cell_type": "code",
   "execution_count": 85,
   "metadata": {},
   "outputs": [
    {
     "data": {
      "text/plain": [
       "array([[ 6,  6],\n",
       "       [ 0, 14]])"
      ]
     },
     "execution_count": 85,
     "metadata": {},
     "output_type": "execute_result"
    }
   ],
   "source": [
    "# import the metrics class\n",
    "from sklearn import metrics\n",
    "cnf_matrix = metrics.confusion_matrix(y_test, y_pred)\n",
    "cnf_matrix"
   ]
  },
  {
   "cell_type": "code",
   "execution_count": 86,
   "metadata": {},
   "outputs": [],
   "source": [
    "import numpy as np\n",
    "import matplotlib.pyplot as plt\n",
    "import seaborn as sns\n",
    "%matplotlib inline"
   ]
  },
  {
   "cell_type": "code",
   "execution_count": 87,
   "metadata": {},
   "outputs": [
    {
     "data": {
      "text/plain": [
       "Text(0.5, 257.44, 'Predicted label')"
      ]
     },
     "execution_count": 87,
     "metadata": {},
     "output_type": "execute_result"
    },
    {
     "data": {
      "image/png": "[encoded data removed]",
      "text/plain": [
       "<Figure size 432x288 with 2 Axes>"
      ]
     },
     "metadata": {
      "needs_background": "light"
     },
     "output_type": "display_data"
    }
   ],
   "source": [
    "class_names=[0,1] # name  of classes\n",
    "fig, ax = plt.subplots()\n",
    "tick_marks = np.arange(len(class_names))\n",
    "plt.xticks(tick_marks, class_names)\n",
    "plt.yticks(tick_marks, class_names)\n",
    "# create heatmap\n",
    "sns.heatmap(pd.DataFrame(cnf_matrix), annot=True, cmap=\"YlGnBu\" ,fmt='g')\n",
    "ax.xaxis.set_label_position(\"top\")\n",
    "plt.tight_layout()\n",
    "plt.title('Confusion matrix', y=1.1)\n",
    "plt.ylabel('Actual label')\n",
    "plt.xlabel('Predicted label')"
   ]
  },
  {
   "cell_type": "code",
   "execution_count": 88,
   "metadata": {},
   "outputs": [
    {
     "name": "stdout",
     "output_type": "stream",
     "text": [
      "Accuracy: 0.7692307692307693\n",
      "Precision: 0.7\n",
      "Recall: 1.0\n"
     ]
    }
   ],
   "source": [
    "print(\"Accuracy:\",metrics.accuracy_score(y_test, y_pred))\n",
    "print(\"Precision:\",metrics.precision_score(y_test, y_pred))\n",
    "print(\"Recall:\",metrics.recall_score(y_test, y_pred))"
   ]
  },
  {
   "cell_type": "code",
   "execution_count": 89,
   "metadata": {},
   "outputs": [
    {
     "data": {
      "image/png": "[encoded data removed]",
      "text/plain": [
       "<Figure size 432x288 with 1 Axes>"
      ]
     },
     "metadata": {
      "needs_background": "light"
     },
     "output_type": "display_data"
    }
   ],
   "source": [
    "y_pred_proba = logreg.predict_proba(X_test)[::,1]\n",
    "fpr, tpr, _ = metrics.roc_curve(y_test,  y_pred_proba)\n",
    "auc = metrics.roc_auc_score(y_test, y_pred_proba)\n",
    "plt.plot(fpr,tpr,label=\"data 1, auc=\"+str(auc))\n",
    "plt.legend(loc=4)\n",
    "plt.show()"
   ]
  },
  {
   "cell_type": "markdown",
   "metadata": {},
   "source": [
    "prepare a more realistic sample with more features, time windows: compute entropy of the price, min/max/average of the fourier transform (the absolute value), difference between min/max, standard deviation of the price inside a window, skewness of the price, linear regression coeff of the price, all-time max/mi, moving average (stick with one company for now) <br>\n",
    "try other window sizes: instead of a week, try more like several months ahead, year ahead<br>\n",
    "end of the window vs start of the window <br>\n",
    "do correlation between different features and outcome when you have more features <br>"
   ]
  }
 ],
 "metadata": {
  "kernelspec": {
   "display_name": "Python 3",
   "language": "python",
   "name": "python3"
  },
  "language_info": {
   "codemirror_mode": {
    "name": "ipython",
    "version": 3
   },
   "file_extension": ".py",
   "mimetype": "text/x-python",
   "name": "python",
   "nbconvert_exporter": "python",
   "pygments_lexer": "ipython3",
   "version": "3.8.5"
  }
 },
 "nbformat": 4,
 "nbformat_minor": 4
}
